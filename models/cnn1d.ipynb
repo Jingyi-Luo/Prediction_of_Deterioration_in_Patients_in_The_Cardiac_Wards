{
 "cells": [
  {
   "cell_type": "code",
   "execution_count": 1,
   "metadata": {},
   "outputs": [
    {
     "name": "stderr",
     "output_type": "stream",
     "text": [
      "/opt/conda/lib/python3.6/site-packages/h5py/__init__.py:34: FutureWarning: Conversion of the second argument of issubdtype from `float` to `np.floating` is deprecated. In future, it will be treated as `np.float64 == np.dtype(float).type`.\n",
      "  from ._conv import register_converters as _register_converters\n",
      "Using TensorFlow backend.\n"
     ]
    }
   ],
   "source": [
    "import pandas as pd\n",
    "import numpy as np\n",
    "import pickle\n",
    "import matplotlib.pyplot as plt\n",
    "from scipy import stats\n",
    "import tensorflow as tf\n",
    "import seaborn as sns\n",
    "from pylab import rcParams\n",
    "from sklearn.model_selection import train_test_split\n",
    "from keras.models import Model, load_model\n",
    "from keras.layers import Input, Dense,Flatten\n",
    "from keras.callbacks import ModelCheckpoint, TensorBoard\n",
    "from keras import regularizers\n",
    "from keras.layers import Dropout,Conv1D, MaxPooling1D,UpSampling1D,Reshape,Activation,BatchNormalization,LeakyReLU\n",
    "from keras.models import Sequential\n",
    "import warnings\n",
    "warnings.filterwarnings(\"ignore\")"
   ]
  },
  {
   "cell_type": "code",
   "execution_count": 2,
   "metadata": {},
   "outputs": [],
   "source": [
    "%matplotlib inline\n",
    "sns.set(style='whitegrid', palette='muted', font_scale=1.5)\n",
    "rcParams['figure.figsize'] = 14, 8"
   ]
  },
  {
   "cell_type": "code",
   "execution_count": 3,
   "metadata": {},
   "outputs": [],
   "source": [
    "data = pd.read_csv(\"./moss_plos_one_data.csv\")"
   ]
  },
  {
   "cell_type": "code",
   "execution_count": 4,
   "metadata": {},
   "outputs": [
    {
     "data": {
      "text/plain": [
       "(1111009, 49)"
      ]
     },
     "execution_count": 4,
     "metadata": {},
     "output_type": "execute_result"
    }
   ],
   "source": [
    "all_data = data.drop(['Sgy', 'MET','eid','tte','death','direct','n_evts','LOS', 'ICU_Pt_Days', 'Mort', 'age', 'race', 'svc'], axis=1)\n",
    "all_data[\"num\"] = all_data.groupby(\"id\").cumcount()\n",
    "all_data = all_data[all_data.num % 2 == 0]\n",
    "all_data.drop([\"num\"], axis=1,inplace=True)\n",
    "all_data.shape\n"
   ]
  },
  {
   "cell_type": "code",
   "execution_count": 5,
   "metadata": {},
   "outputs": [],
   "source": [
    "id_list = list(set(all_data['id']))  # 8105\n",
    "id_true = list(set(all_data[all_data['y'] == True].id))       # 367\n",
    "id_false = [id for id in id_list if id not in id_true]\n",
    "np.random.seed(2)\n",
    "np.random.shuffle(id_false)\n",
    "np.random.shuffle(id_true)\n",
    "id_false_1 = id_false[0:4000]\n",
    "id_false_2 = id_false[4000:6188]\n",
    "\n",
    "id_true_1 = id_true[0:180]\n",
    "id_true_2 = id_true[180:]\n"
   ]
  },
  {
   "cell_type": "code",
   "execution_count": 6,
   "metadata": {},
   "outputs": [],
   "source": [
    "fasle_patient = all_data[all_data.y==False] #find non_event patients\n",
    "\n",
    "true_patient =all_data[all_data.y==True]  #find patients with event\n"
   ]
  },
  {
   "cell_type": "code",
   "execution_count": 7,
   "metadata": {},
   "outputs": [],
   "source": [
    "col = ['y',\"id\",'hr', 's2.hr', 's8.hr', 's24.hr', 'n.edrk',\n",
    "       'edrk', 's2.edrk', 's8.edrk', 's24.edrk', 'srr', 'dfa', 'cosen', 'lds',\n",
    "       'af', 'AF']\n",
    "all_data = all_data[col]"
   ]
  },
  {
   "cell_type": "code",
   "execution_count": 8,
   "metadata": {},
   "outputs": [],
   "source": [
    "X_train = all_data[all_data.id.isin(id_false_1+id_true_1)]\n",
    "x_test = all_data[all_data.id.isin(id_false_2+id_true_2)]\n"
   ]
  },
  {
   "cell_type": "code",
   "execution_count": 9,
   "metadata": {},
   "outputs": [],
   "source": [
    "from sklearn.preprocessing import StandardScaler\n",
    "from imblearn.over_sampling import SMOTE\n",
    "scaler = StandardScaler()\n",
    "y_train = X_train.y\n",
    "X_train = X_train.drop(['y',\"id\"], axis=1)\n",
    "\n",
    "X_train = scaler.fit_transform(X_train)\n",
    "sm = SMOTE(random_state=42)\n",
    "new_X_train, new_y_train = sm.fit_sample(X_train, y_train)"
   ]
  },
  {
   "cell_type": "code",
   "execution_count": 10,
   "metadata": {},
   "outputs": [],
   "source": [
    "y_test = x_test['y']\n",
    "test_id = x_test[\"id\"]\n",
    "x_test = x_test.drop(['y',\"id\"], axis=1)\n",
    "x_test = scaler.fit_transform(x_test)"
   ]
  },
  {
   "cell_type": "code",
   "execution_count": 11,
   "metadata": {},
   "outputs": [],
   "source": [
    "new_X_train = new_X_train.reshape(new_X_train.shape[0], new_X_train.shape[1], 1)"
   ]
  },
  {
   "cell_type": "code",
   "execution_count": 12,
   "metadata": {},
   "outputs": [],
   "source": [
    "x_test = x_test.reshape(x_test.shape[0], x_test.shape[1], 1)"
   ]
  },
  {
   "cell_type": "code",
   "execution_count": 13,
   "metadata": {},
   "outputs": [
    {
     "name": "stdout",
     "output_type": "stream",
     "text": [
      "WARNING:tensorflow:From /opt/conda/lib/python3.6/site-packages/tensorflow/python/util/deprecation.py:497: calling conv1d (from tensorflow.python.ops.nn_ops) with data_format=NHWC is deprecated and will be removed in a future version.\n",
      "Instructions for updating:\n",
      "`NHWC` for data_format is deprecated, use `NWC` instead\n"
     ]
    }
   ],
   "source": [
    "#8 layers CNN\n",
    "input_dim = new_X_train.shape[1]\n",
    "model= Sequential()\n",
    "model.add(Conv1D(11, 4, input_shape=new_X_train.shape[1:3]))\n",
    "model.add(BatchNormalization())\n",
    "model.add(MaxPooling1D(2))\n",
    "model.add(Conv1D(11, 2))\n",
    "model.add(BatchNormalization())\n",
    "model.add(LeakyReLU(alpha=0.01))\n",
    "model.add(Conv1D(11, 2))\n",
    "model.add(BatchNormalization())\n",
    "model.add(LeakyReLU(alpha=0.01))\n",
    "model.add(MaxPooling1D(2))\n",
    "model.add(Dropout(0.2))\n",
    "model.add(Flatten())\n",
    "model.add(Dense(10))\n",
    "model.add(LeakyReLU(alpha=0.01))\n",
    "model.add(Dense(10))\n",
    "model.add(LeakyReLU(alpha=0.01))\n",
    "model.add(Dropout(0.4))\n",
    "model.add(Dense(1, activation = 'sigmoid'))\n"
   ]
  },
  {
   "cell_type": "code",
   "execution_count": null,
   "metadata": {},
   "outputs": [
    {
     "data": {
      "text/plain": [
       "(None, 1)"
      ]
     },
     "execution_count": 14,
     "metadata": {},
     "output_type": "execute_result"
    }
   ],
   "source": [
    "model.output_shape"
   ]
  },
  {
   "cell_type": "code",
   "execution_count": null,
   "metadata": {},
   "outputs": [
    {
     "name": "stdout",
     "output_type": "stream",
     "text": [
      "Train on 1149196 samples, validate on 339196 samples\n",
      "Epoch 1/15\n",
      "1149196/1149196 [==============================] - 105s 91us/step - loss: 0.6287 - acc: 0.6433 - val_loss: 0.6232 - val_acc: 0.5665\n",
      "Epoch 2/15\n",
      "1149196/1149196 [==============================] - 105s 92us/step - loss: 0.6060 - acc: 0.6691 - val_loss: 0.5964 - val_acc: 0.6140\n",
      "Epoch 3/15\n",
      "1149196/1149196 [==============================] - 105s 92us/step - loss: 0.6000 - acc: 0.6748 - val_loss: 0.5951 - val_acc: 0.6144\n",
      "Epoch 4/15\n",
      "1149196/1149196 [==============================] - 106s 92us/step - loss: 0.5971 - acc: 0.6776 - val_loss: 0.5948 - val_acc: 0.6116\n",
      "Epoch 5/15\n",
      "1149196/1149196 [==============================] - 106s 92us/step - loss: 0.5951 - acc: 0.6791 - val_loss: 0.5854 - val_acc: 0.6192\n",
      "Epoch 6/15\n",
      "1149196/1149196 [==============================] - 105s 91us/step - loss: 0.5939 - acc: 0.6809 - val_loss: 0.6006 - val_acc: 0.6017\n",
      "Epoch 7/15\n",
      "1149196/1149196 [==============================] - 104s 90us/step - loss: 0.5921 - acc: 0.6831 - val_loss: 0.5612 - val_acc: 0.6558\n",
      "Epoch 8/15\n",
      "1149196/1149196 [==============================] - 104s 91us/step - loss: 0.5912 - acc: 0.6841 - val_loss: 0.5751 - val_acc: 0.6633\n",
      "Epoch 9/15\n",
      "1149196/1149196 [==============================] - 104s 91us/step - loss: 0.5908 - acc: 0.6847 - val_loss: 0.5687 - val_acc: 0.6459\n",
      "Epoch 10/15\n",
      " 853800/1149196 [=====================>........] - ETA: 25s - loss: 0.5900 - acc: 0.6848"
     ]
    }
   ],
   "source": [
    "nb_epoch = 15\n",
    "batch_size = 100\n",
    "model.compile(optimizer='adam', \n",
    "                    loss='binary_crossentropy', \n",
    "                    metrics=['accuracy'])\n",
    "checkpointer = ModelCheckpoint(filepath=\"model.h5\",\n",
    "                               verbose=0,\n",
    "                               save_best_only=True)\n",
    "model.fit(new_X_train, new_y_train,\n",
    "                    epochs=nb_epoch,\n",
    "                    batch_size=batch_size,\n",
    "                    shuffle=True,\n",
    "                    validation_data=(x_test, y_test),\n",
    "                    verbose=1)\n"
   ]
  },
  {
   "cell_type": "code",
   "execution_count": 18,
   "metadata": {},
   "outputs": [],
   "source": [
    "pred = model.predict_proba(x_test)\n"
   ]
  },
  {
   "cell_type": "code",
   "execution_count": 25,
   "metadata": {},
   "outputs": [
    {
     "data": {
      "text/plain": [
       "93"
      ]
     },
     "execution_count": 25,
     "metadata": {},
     "output_type": "execute_result"
    }
   ],
   "source": [
    "ind = pred[:,0].argsort()[::-1][:round(len(pred)*0.01)]\n",
    "test_id = np.array(test_id)\n",
    "l = list(set(test_id[ind]))\n",
    "#true patients with event\n",
    "a = [i for i in l if i in id_true]\n",
    "len(a)"
   ]
  },
  {
   "cell_type": "code",
   "execution_count": 26,
   "metadata": {},
   "outputs": [
    {
     "data": {
      "text/plain": [
       "0.5959015420730926"
      ]
     },
     "execution_count": 26,
     "metadata": {},
     "output_type": "execute_result"
    }
   ],
   "source": [
    "from sklearn.metrics import roc_auc_score\n",
    "roc_auc_score(np.array(y_test), pred[:,0])"
   ]
  },
  {
   "cell_type": "code",
   "execution_count": 27,
   "metadata": {},
   "outputs": [
    {
     "data": {
      "text/plain": [
       "518"
      ]
     },
     "execution_count": 27,
     "metadata": {},
     "output_type": "execute_result"
    }
   ],
   "source": [
    "#misclassified non_event patients\n",
    "len(list(set([i for i in test_id[ind] if i  in id_false])))"
   ]
  },
  {
   "cell_type": "code",
   "execution_count": 28,
   "metadata": {},
   "outputs": [
    {
     "data": {
      "text/plain": [
       "2375"
      ]
     },
     "execution_count": 28,
     "metadata": {},
     "output_type": "execute_result"
    }
   ],
   "source": [
    "#total unique patients \n",
    "len(list(set(test_id)))"
   ]
  },
  {
   "cell_type": "code",
   "execution_count": 37,
   "metadata": {},
   "outputs": [
    {
     "data": {
      "text/plain": [
       "65"
      ]
     },
     "execution_count": 37,
     "metadata": {},
     "output_type": "execute_result"
    }
   ],
   "source": [
    "l = list(set(test_id[np.where(pred>0.85)[0]]))\n",
    "a = [i for i in l if i in id_true]\n",
    "len(a)"
   ]
  },
  {
   "cell_type": "code",
   "execution_count": 38,
   "metadata": {},
   "outputs": [
    {
     "data": {
      "text/plain": [
       "337"
      ]
     },
     "execution_count": 38,
     "metadata": {},
     "output_type": "execute_result"
    }
   ],
   "source": [
    "l = list(set(test_id[np.where(pred>0.85)[0]]))\n",
    "a = [i for i in l if i in id_false]\n",
    "len(a)"
   ]
  },
  {
   "cell_type": "code",
   "execution_count": null,
   "metadata": {},
   "outputs": [],
   "source": [
    "len(l)"
   ]
  },
  {
   "cell_type": "code",
   "execution_count": null,
   "metadata": {},
   "outputs": [],
   "source": []
  }
 ],
 "metadata": {
  "kernelspec": {
   "display_name": "Python 3",
   "language": "python",
   "name": "python3"
  },
  "language_info": {
   "codemirror_mode": {
    "name": "ipython",
    "version": 3
   },
   "file_extension": ".py",
   "mimetype": "text/x-python",
   "name": "python",
   "nbconvert_exporter": "python",
   "pygments_lexer": "ipython3",
   "version": "3.6.5"
  }
 },
 "nbformat": 4,
 "nbformat_minor": 2
}
