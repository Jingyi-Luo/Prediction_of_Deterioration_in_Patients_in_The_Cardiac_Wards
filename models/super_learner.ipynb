{
 "cells": [
  {
   "cell_type": "code",
   "execution_count": 1,
   "metadata": {},
   "outputs": [],
   "source": [
    "import os\n",
    "import pandas as pd\n",
    "import numpy as np\n",
    "from imblearn.over_sampling import SMOTE\n",
    "from sklearn.model_selection import train_test_split\n",
    "from sklearn.model_selection import GridSearchCV\n",
    "from sklearn.linear_model import LogisticRegression\n",
    "from sklearn.metrics import confusion_matrix, precision_recall_curve, auc, roc_auc_score, roc_curve, recall_score, classification_report\n",
    "from sklearn.linear_model import SGDClassifier\n",
    "import matplotlib.pyplot as plt\n",
    "import itertools\n",
    "from sklearn.model_selection import KFold\n",
    "from sklearn import linear_model\n",
    "from sklearn.ensemble import RandomForestClassifier\n",
    "import random\n",
    "from sklearn.calibration import CalibratedClassifierCV\n",
    "from sklearn.svm import SVC\n",
    "from sklearn.preprocessing import StandardScaler\n"
   ]
  },
  {
   "cell_type": "code",
   "execution_count": 2,
   "metadata": {},
   "outputs": [],
   "source": [
    "os.chdir('/Users/chloe/Desktop/UVa/Capstone/Code')\n",
    "raw = pd.read_csv(\"../Data/moss_plos_one_data.csv\")  # (2217958, 62)"
   ]
  },
  {
   "cell_type": "code",
   "execution_count": 3,
   "metadata": {},
   "outputs": [
    {
     "data": {
      "text/html": [
       "<div>\n",
       "<style scoped>\n",
       "    .dataframe tbody tr th:only-of-type {\n",
       "        vertical-align: middle;\n",
       "    }\n",
       "\n",
       "    .dataframe tbody tr th {\n",
       "        vertical-align: top;\n",
       "    }\n",
       "\n",
       "    .dataframe thead th {\n",
       "        text-align: right;\n",
       "    }\n",
       "</style>\n",
       "<table border=\"1\" class=\"dataframe\">\n",
       "  <thead>\n",
       "    <tr style=\"text-align: right;\">\n",
       "      <th></th>\n",
       "      <th>count</th>\n",
       "      <th>percent</th>\n",
       "    </tr>\n",
       "  </thead>\n",
       "  <tbody>\n",
       "    <tr>\n",
       "      <th>Sgy</th>\n",
       "      <td>2211055</td>\n",
       "      <td>0.996888</td>\n",
       "    </tr>\n",
       "    <tr>\n",
       "      <th>MET</th>\n",
       "      <td>2061720</td>\n",
       "      <td>0.929558</td>\n",
       "    </tr>\n",
       "    <tr>\n",
       "      <th>eid</th>\n",
       "      <td>1974558</td>\n",
       "      <td>0.890259</td>\n",
       "    </tr>\n",
       "    <tr>\n",
       "      <th>tte</th>\n",
       "      <td>1974558</td>\n",
       "      <td>0.890259</td>\n",
       "    </tr>\n",
       "    <tr>\n",
       "      <th>death</th>\n",
       "      <td>1974558</td>\n",
       "      <td>0.890259</td>\n",
       "    </tr>\n",
       "    <tr>\n",
       "      <th>direct</th>\n",
       "      <td>1974558</td>\n",
       "      <td>0.890259</td>\n",
       "    </tr>\n",
       "  </tbody>\n",
       "</table>\n",
       "</div>"
      ],
      "text/plain": [
       "          count   percent\n",
       "Sgy     2211055  0.996888\n",
       "MET     2061720  0.929558\n",
       "eid     1974558  0.890259\n",
       "tte     1974558  0.890259\n",
       "death   1974558  0.890259\n",
       "direct  1974558  0.890259"
      ]
     },
     "execution_count": 3,
     "metadata": {},
     "output_type": "execute_result"
    }
   ],
   "source": [
    "def get_na_rate(dataframe):\n",
    "    na_count = dataframe.isnull().sum()\n",
    "    na_rate = na_count / len(dataframe)\n",
    "    df_na = pd.concat([na_count, na_rate], axis=1, keys=['count', 'percent'])\n",
    "    df_na = df_na[df_na['percent']>0]\n",
    "    df_na = df_na.sort_values(['percent'], ascending=False)\n",
    "    return df_na\n",
    "\n",
    "df_na = get_na_rate(raw)\n",
    "df_na"
   ]
  },
  {
   "cell_type": "code",
   "execution_count": 4,
   "metadata": {},
   "outputs": [],
   "source": [
    "all_data = raw.drop(['Sgy', 'MET','eid','tte','death','direct','n_evts','LOS', 'ICU_Pt_Days', 'Mort', 'age', 'race', 'svc'], axis=1)  # (2217958, 56)"
   ]
  },
  {
   "cell_type": "markdown",
   "metadata": {},
   "source": [
    "### ??? Some columns (Resp) have zeros"
   ]
  },
  {
   "cell_type": "code",
   "execution_count": 5,
   "metadata": {},
   "outputs": [],
   "source": [
    "id_list = list(set(all_data['id']))  # 8105\n",
    "id_true = list(set(all_data[all_data['y'] == True].id))       # 367\n",
    "id_false = [id for id in id_list if id not in id_true]        # 7738"
   ]
  },
  {
   "cell_type": "code",
   "execution_count": 6,
   "metadata": {},
   "outputs": [],
   "source": [
    "np.random.shuffle(id_true)\n",
    "np.random.shuffle(id_false)"
   ]
  },
  {
   "cell_type": "code",
   "execution_count": 7,
   "metadata": {},
   "outputs": [],
   "source": [
    "id_true_1 = id_true[0:73]\n",
    "id_true_2 = id_true[73:147]\n",
    "id_true_3 = id_true[147:221]\n",
    "id_true_4 = id_true[221:294]\n",
    "id_true_5 = id_true[294:]"
   ]
  },
  {
   "cell_type": "code",
   "execution_count": 22,
   "metadata": {},
   "outputs": [],
   "source": [
    "random.seed(21)\n",
    "id_false_sample = random.sample(id_false,140)\n",
    "id_false_train = random.sample([id for id in id_false if id not in id_false_sample], 1000)"
   ]
  },
  {
   "cell_type": "code",
   "execution_count": 23,
   "metadata": {},
   "outputs": [],
   "source": [
    "true_train_1 = [id for id in id_true if id not in id_true_1]\n",
    "df_train1_true = all_data[all_data['id'].isin(true_train_1)]      # (153027, 56)\n",
    "df_train1_false = all_data[all_data['id'].isin(id_false_train)]   # ((158818, 56)"
   ]
  },
  {
   "cell_type": "code",
   "execution_count": 24,
   "metadata": {},
   "outputs": [
    {
     "name": "stdout",
     "output_type": "stream",
     "text": [
      "true shape: 145796  false shape: 256380\n"
     ]
    }
   ],
   "source": [
    "df_train_1 = pd.concat([df_train1_true, df_train1_false], ignore_index=True, axis=0)  # (411272, 56)\n",
    "print ('true shape: %d  false shape: %d'%(df_train1_true.shape[0], df_train1_false.shape[0]))"
   ]
  },
  {
   "cell_type": "code",
   "execution_count": 25,
   "metadata": {},
   "outputs": [
    {
     "name": "stdout",
     "output_type": "stream",
     "text": [
      "true shape: 43788  false shape: 40317\n"
     ]
    }
   ],
   "source": [
    "df_test1_true = all_data[all_data['id'].isin(id_true_1)]\n",
    "df_test1_false = all_data[all_data['id'].isin(id_false_sample)]\n",
    "df_test_1 = pd.concat([df_test1_true, df_test1_false], axis=0)\n",
    "print ('true shape: %d  false shape: %d'%(df_test1_true.shape[0], df_test1_false.shape[0]))"
   ]
  },
  {
   "cell_type": "code",
   "execution_count": 26,
   "metadata": {},
   "outputs": [
    {
     "name": "stdout",
     "output_type": "stream",
     "text": [
      "After SMOTE \"True\":382831 \"False\": 382831\n"
     ]
    }
   ],
   "source": [
    "y_train_1 = df_train_1.y\n",
    "x_train_1 = df_train_1.drop(['y'], axis=1)\n",
    "sm = SMOTE(random_state=42)\n",
    "X_train, y_train = sm.fit_sample(x_train_1, y_train_1)\n",
    "print ('After SMOTE \"True\":%d \"False\": %d' % (sum(y_train == 1), sum(y_train == 0)))"
   ]
  },
  {
   "cell_type": "code",
   "execution_count": 27,
   "metadata": {},
   "outputs": [],
   "source": [
    "y_test_1 = df_test_1.y\n",
    "x_test_1 = df_test_1.drop(['y'], axis=1)"
   ]
  },
  {
   "cell_type": "markdown",
   "metadata": {},
   "source": [
    "### Logistic Regression"
   ]
  },
  {
   "cell_type": "code",
   "execution_count": 28,
   "metadata": {},
   "outputs": [],
   "source": [
    "lr = LogisticRegression()"
   ]
  },
  {
   "cell_type": "code",
   "execution_count": 29,
   "metadata": {},
   "outputs": [
    {
     "name": "stderr",
     "output_type": "stream",
     "text": [
      "/anaconda3/lib/python3.7/site-packages/sklearn/linear_model/logistic.py:433: FutureWarning: Default solver will be changed to 'lbfgs' in 0.22. Specify a solver to silence this warning.\n",
      "  FutureWarning)\n"
     ]
    },
    {
     "data": {
      "text/plain": [
       "0.567035977204615"
      ]
     },
     "execution_count": 29,
     "metadata": {},
     "output_type": "execute_result"
    }
   ],
   "source": [
    "#  Predict with all VS variables\n",
    "cols = [\"Pulse\",\"O2.Flow\",\"Resp\",\"SpO2\",\"SBP\",\"Glasgow.Coma.Scale.Total\"]\n",
    "X_train_1 = x_train_1[cols]\n",
    "X_test_1 = x_test_1[cols]\n",
    "lr = lr.fit(X_train_1, y_train_1)\n",
    "pred = lr.predict_proba(X_test_1)[:, 1]\n",
    "roc_auc_score(y_test_1, pred)"
   ]
  },
  {
   "cell_type": "code",
   "execution_count": 30,
   "metadata": {},
   "outputs": [
    {
     "name": "stderr",
     "output_type": "stream",
     "text": [
      "/anaconda3/lib/python3.7/site-packages/sklearn/linear_model/logistic.py:433: FutureWarning: Default solver will be changed to 'lbfgs' in 0.22. Specify a solver to silence this warning.\n",
      "  FutureWarning)\n"
     ]
    },
    {
     "data": {
      "text/plain": [
       "0.5266850271578871"
      ]
     },
     "execution_count": 30,
     "metadata": {},
     "output_type": "execute_result"
    }
   ],
   "source": [
    "#  Predict with all lab results\n",
    "cols = [\"WHITE.BLOOD.CELL.COUNT\",\"BLOOD.UREA.NITROGEN\",\"AST.GOT\",\n",
    "        \"PLATELET.COUNT\",\"GLUCOSE\",\"PCO2\",\"POTASSIUM\",\"SODIUM\",\"CO2\"]\n",
    "X_train_1 = x_train_1[cols]\n",
    "X_test_1 = x_test_1[cols]\n",
    "lr = lr.fit(X_train_1, y_train_1)\n",
    "pred = lr.predict_proba(X_test_1)[:, 1]\n",
    "roc_auc_score(y_test_1, pred)"
   ]
  },
  {
   "cell_type": "code",
   "execution_count": 31,
   "metadata": {},
   "outputs": [
    {
     "name": "stderr",
     "output_type": "stream",
     "text": [
      "/anaconda3/lib/python3.7/site-packages/sklearn/linear_model/logistic.py:433: FutureWarning: Default solver will be changed to 'lbfgs' in 0.22. Specify a solver to silence this warning.\n",
      "  FutureWarning)\n"
     ]
    },
    {
     "data": {
      "text/plain": [
       "0.5901092732333542"
      ]
     },
     "execution_count": 31,
     "metadata": {},
     "output_type": "execute_result"
    }
   ],
   "source": [
    "#  Predict with ECG results\n",
    "cols = ['hr', 's2.hr', 's8.hr', 's24.hr', 'n.edrk',\n",
    "       'edrk', 's2.edrk', 's8.edrk', 's24.edrk', 'srr', 'dfa', 'cosen', 'lds',\n",
    "       'af', 'AF']\n",
    "X_train_1 = x_train_1[cols]\n",
    "X_test_1 = x_test_1[cols]\n",
    "lr = lr.fit(X_train_1, y_train_1)\n",
    "pred = lr.predict_proba(X_test_1)[:, 1]\n",
    "roc_auc_score(y_test_1, pred)"
   ]
  },
  {
   "cell_type": "markdown",
   "metadata": {},
   "source": [
    "### Random Forest"
   ]
  },
  {
   "cell_type": "code",
   "execution_count": 32,
   "metadata": {},
   "outputs": [],
   "source": [
    "def c_stat(model, x_train_1, x_test_1, y_train_1, y_test_1, cols):\n",
    "    X_train_1 = x_train_1[cols]\n",
    "    X_test_1 = x_test_1[cols]\n",
    "    model = model.fit(X_train_1, y_train_1)\n",
    "    pred = model.predict_proba(X_test_1)[:, 1]\n",
    "    return roc_auc_score(y_test_1, pred)"
   ]
  },
  {
   "cell_type": "code",
   "execution_count": 33,
   "metadata": {},
   "outputs": [
    {
     "data": {
      "text/plain": [
       "0.5262476717322511"
      ]
     },
     "execution_count": 33,
     "metadata": {},
     "output_type": "execute_result"
    }
   ],
   "source": [
    "#  Predict with all VS variables\n",
    "forest = RandomForestClassifier(n_estimators=100, n_jobs = -1, random_state=0)\n",
    "cols = [\"Pulse\",\"O2.Flow\",\"Resp\",\"SpO2\",\"SBP\",\"Glasgow.Coma.Scale.Total\"]\n",
    "c_stat(forest, x_train_1, x_test_1, y_train_1, y_test_1, cols)"
   ]
  },
  {
   "cell_type": "code",
   "execution_count": 34,
   "metadata": {},
   "outputs": [
    {
     "data": {
      "text/plain": [
       "0.552940568946593"
      ]
     },
     "execution_count": 34,
     "metadata": {},
     "output_type": "execute_result"
    }
   ],
   "source": [
    "#  Predict with all lab results\n",
    "cols = [\"WHITE.BLOOD.CELL.COUNT\",\"BLOOD.UREA.NITROGEN\",\"AST.GOT\",\n",
    "        \"PLATELET.COUNT\",\"GLUCOSE\",\"PCO2\",\"POTASSIUM\",\"SODIUM\",\"CO2\"]\n",
    "c_stat(forest, x_train_1, x_test_1, y_train_1, y_test_1, cols)"
   ]
  },
  {
   "cell_type": "code",
   "execution_count": 35,
   "metadata": {},
   "outputs": [
    {
     "data": {
      "text/plain": [
       "0.5607918832795461"
      ]
     },
     "execution_count": 35,
     "metadata": {},
     "output_type": "execute_result"
    }
   ],
   "source": [
    "#  Predict with all ECG results\n",
    "cols = ['hr', 's2.hr', 's8.hr', 's24.hr', 'n.edrk',\n",
    "       'edrk', 's2.edrk', 's8.edrk', 's24.edrk', 'srr', 'dfa', 'cosen', 'lds',\n",
    "       'af', 'AF']\n",
    "c_stat(forest, x_train_1, x_test_1, y_train_1, y_test_1, cols)"
   ]
  },
  {
   "cell_type": "markdown",
   "metadata": {},
   "source": [
    "### SVM"
   ]
  },
  {
   "cell_type": "code",
   "execution_count": null,
   "metadata": {},
   "outputs": [],
   "source": [
    "#  Predict with all VS variables\n",
    "sc = StandardScaler()\n",
    "X_train_sample = sc.fit_transform(x_train_1)  \n",
    "X_test_sample = sc.transform(x_test_1)\n",
    "svm = SVC(kernel='linear', probability=True, random_state=0)\n",
    "cols = [\"Pulse\",\"O2.Flow\",\"Resp\",\"SpO2\",\"SBP\",\"Glasgow.Coma.Scale.Total\"]\n",
    "c_stat(svm, X_train_sample, X_test_sample, y_train_1, y_test_1, cols)"
   ]
  },
  {
   "cell_type": "code",
   "execution_count": null,
   "metadata": {},
   "outputs": [],
   "source": [
    "#  Predict with all VS variables\n",
    "cols = [\"WHITE.BLOOD.CELL.COUNT\",\"BLOOD.UREA.NITROGEN\",\"AST.GOT\",\n",
    "        \"PLATELET.COUNT\",\"GLUCOSE\",\"PCO2\",\"POTASSIUM\",\"SODIUM\",\"CO2\"]\n",
    "c_stat(svm, X_train_1, x_test_1, y_train_1, y_test_1, cols)"
   ]
  },
  {
   "cell_type": "code",
   "execution_count": null,
   "metadata": {},
   "outputs": [],
   "source": [
    "#  Predict with all ECG results\n",
    "cols = ['hr', 's2.hr', 's8.hr', 's24.hr', 'n.edrk',\n",
    "       'edrk', 's2.edrk', 's8.edrk', 's24.edrk', 'srr', 'dfa', 'cosen', 'lds',\n",
    "       'af', 'AF']\n",
    "c_stat(forest, X_train_1, x_test_1, y_train_1, y_test_1, cols)"
   ]
  }
 ],
 "metadata": {
  "kernelspec": {
   "display_name": "Python 3",
   "language": "python",
   "name": "python3"
  },
  "language_info": {
   "codemirror_mode": {
    "name": "ipython",
    "version": 3
   },
   "file_extension": ".py",
   "mimetype": "text/x-python",
   "name": "python",
   "nbconvert_exporter": "python",
   "pygments_lexer": "ipython3",
   "version": "3.7.1"
  }
 },
 "nbformat": 4,
 "nbformat_minor": 2
}
