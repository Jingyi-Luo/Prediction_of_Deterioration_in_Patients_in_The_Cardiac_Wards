{
 "cells": [
  {
   "cell_type": "code",
   "execution_count": 1,
   "metadata": {},
   "outputs": [
    {
     "name": "stderr",
     "output_type": "stream",
     "text": [
      "/opt/conda/lib/python3.6/site-packages/h5py/__init__.py:34: FutureWarning: Conversion of the second argument of issubdtype from `float` to `np.floating` is deprecated. In future, it will be treated as `np.float64 == np.dtype(float).type`.\n",
      "  from ._conv import register_converters as _register_converters\n",
      "Using TensorFlow backend.\n"
     ]
    }
   ],
   "source": [
    "import pandas as pd\n",
    "import numpy as np\n",
    "import warnings\n",
    "import pickle\n",
    "import matplotlib.pyplot as plt\n",
    "from scipy import stats\n",
    "import tensorflow as tf\n",
    "import seaborn as sns\n",
    "from pylab import rcParams\n",
    "from sklearn.model_selection import train_test_split\n",
    "from keras.models import Model, load_model\n",
    "from keras.layers import Input, Dense,Flatten\n",
    "from keras.callbacks import ModelCheckpoint, TensorBoard\n",
    "from keras import regularizers\n",
    "from keras.layers import Dropout,Conv1D, MaxPooling1D,UpSampling1D,Reshape,Activation,BatchNormalization,LeakyReLU\n",
    "from keras.models import Sequential\n",
    "warnings.filterwarnings(\"ignore\")"
   ]
  },
  {
   "cell_type": "code",
   "execution_count": 2,
   "metadata": {},
   "outputs": [],
   "source": [
    "pat = pd.read_csv(\"./moss_plos_one_data.csv\")"
   ]
  },
  {
   "cell_type": "code",
   "execution_count": 3,
   "metadata": {},
   "outputs": [],
   "source": [
    "true_patient = pat[pat.y==True]\n",
    "id_true = list(set(list(true_patient.id)))"
   ]
  },
  {
   "cell_type": "code",
   "execution_count": 4,
   "metadata": {},
   "outputs": [
    {
     "data": {
      "text/plain": [
       "(189584, 63)"
      ]
     },
     "execution_count": 4,
     "metadata": {},
     "output_type": "execute_result"
    }
   ],
   "source": [
    "true_patient = pat[pat.id.isin(id_true)]\n",
    "true_patient[\"num\"] = 1\n",
    "true_patient.shape"
   ]
  },
  {
   "cell_type": "code",
   "execution_count": 5,
   "metadata": {},
   "outputs": [],
   "source": [
    "true_patient[\"cond\"] = true_patient[\"num\"].copy()\n",
    "true_patient.cond[true_patient.y==True] =0"
   ]
  },
  {
   "cell_type": "code",
   "execution_count": 6,
   "metadata": {},
   "outputs": [
    {
     "data": {
      "text/html": [
       "<div>\n",
       "<style>\n",
       "    .dataframe thead tr:only-child th {\n",
       "        text-align: right;\n",
       "    }\n",
       "\n",
       "    .dataframe thead th {\n",
       "        text-align: left;\n",
       "    }\n",
       "\n",
       "    .dataframe tbody tr th {\n",
       "        vertical-align: top;\n",
       "    }\n",
       "</style>\n",
       "<table border=\"1\" class=\"dataframe\">\n",
       "  <thead>\n",
       "    <tr style=\"text-align: right;\">\n",
       "      <th></th>\n",
       "      <th>id</th>\n",
       "      <th>cond</th>\n",
       "    </tr>\n",
       "  </thead>\n",
       "  <tbody>\n",
       "    <tr>\n",
       "      <th>0</th>\n",
       "      <td>133</td>\n",
       "      <td>159</td>\n",
       "    </tr>\n",
       "    <tr>\n",
       "      <th>1</th>\n",
       "      <td>187</td>\n",
       "      <td>660</td>\n",
       "    </tr>\n",
       "    <tr>\n",
       "      <th>2</th>\n",
       "      <td>191</td>\n",
       "      <td>1</td>\n",
       "    </tr>\n",
       "    <tr>\n",
       "      <th>3</th>\n",
       "      <td>206</td>\n",
       "      <td>239</td>\n",
       "    </tr>\n",
       "    <tr>\n",
       "      <th>4</th>\n",
       "      <td>282</td>\n",
       "      <td>610</td>\n",
       "    </tr>\n",
       "  </tbody>\n",
       "</table>\n",
       "</div>"
      ],
      "text/plain": [
       "    id  cond\n",
       "0  133   159\n",
       "1  187   660\n",
       "2  191     1\n",
       "3  206   239\n",
       "4  282   610"
      ]
     },
     "execution_count": 6,
     "metadata": {},
     "output_type": "execute_result"
    }
   ],
   "source": [
    "filterPat = true_patient.groupby(\"id\")[\"cond\"].sum().to_frame().reset_index()\n",
    "filterPat.head()"
   ]
  },
  {
   "cell_type": "code",
   "execution_count": 7,
   "metadata": {},
   "outputs": [],
   "source": [
    "filtered_id =  list(filterPat.id[filterPat.cond>=24*4])\n",
    "new_df = true_patient[true_patient.id.isin(filtered_id)]"
   ]
  },
  {
   "cell_type": "code",
   "execution_count": 8,
   "metadata": {},
   "outputs": [
    {
     "data": {
      "text/plain": [
       "246"
      ]
     },
     "execution_count": 8,
     "metadata": {},
     "output_type": "execute_result"
    }
   ],
   "source": [
    "len(filtered_id)"
   ]
  },
  {
   "cell_type": "code",
   "execution_count": 9,
   "metadata": {},
   "outputs": [],
   "source": [
    "new_df2 = new_df.loc[new_df.y==False]"
   ]
  },
  {
   "cell_type": "code",
   "execution_count": 10,
   "metadata": {},
   "outputs": [],
   "source": [
    "reverse_df = new_df2[::-1]\n",
    "reverse_df_24 = reverse_df.groupby(\"id\").head(96)"
   ]
  },
  {
   "cell_type": "code",
   "execution_count": 11,
   "metadata": {},
   "outputs": [
    {
     "data": {
      "text/plain": [
       "(23616, 64)"
      ]
     },
     "execution_count": 11,
     "metadata": {},
     "output_type": "execute_result"
    }
   ],
   "source": [
    "reverse_df_24.shape"
   ]
  },
  {
   "cell_type": "code",
   "execution_count": 12,
   "metadata": {},
   "outputs": [
    {
     "data": {
      "text/plain": [
       "(11808, 64)"
      ]
     },
     "execution_count": 12,
     "metadata": {},
     "output_type": "execute_result"
    }
   ],
   "source": [
    "reverse_df_12 = reverse_df_24.groupby(\"id\").tail(48)\n",
    "reverse_df_12.shape"
   ]
  },
  {
   "cell_type": "code",
   "execution_count": 13,
   "metadata": {},
   "outputs": [
    {
     "data": {
      "text/html": [
       "<div>\n",
       "<style>\n",
       "    .dataframe thead tr:only-child th {\n",
       "        text-align: right;\n",
       "    }\n",
       "\n",
       "    .dataframe thead th {\n",
       "        text-align: left;\n",
       "    }\n",
       "\n",
       "    .dataframe tbody tr th {\n",
       "        vertical-align: top;\n",
       "    }\n",
       "</style>\n",
       "<table border=\"1\" class=\"dataframe\">\n",
       "  <thead>\n",
       "    <tr style=\"text-align: right;\">\n",
       "      <th></th>\n",
       "      <th>id</th>\n",
       "      <th>age</th>\n",
       "      <th>race</th>\n",
       "      <th>svc</th>\n",
       "      <th>LOS</th>\n",
       "      <th>ICU_Pt_Days</th>\n",
       "      <th>Mort</th>\n",
       "      <th>n_evts</th>\n",
       "      <th>eid</th>\n",
       "      <th>y</th>\n",
       "      <th>...</th>\n",
       "      <th>s8.edrk</th>\n",
       "      <th>s24.edrk</th>\n",
       "      <th>srr</th>\n",
       "      <th>dfa</th>\n",
       "      <th>cosen</th>\n",
       "      <th>lds</th>\n",
       "      <th>af</th>\n",
       "      <th>AF</th>\n",
       "      <th>num</th>\n",
       "      <th>cond</th>\n",
       "    </tr>\n",
       "  </thead>\n",
       "  <tbody>\n",
       "    <tr>\n",
       "      <th>26387</th>\n",
       "      <td>133</td>\n",
       "      <td>63.7</td>\n",
       "      <td>wht</td>\n",
       "      <td>Other</td>\n",
       "      <td>14</td>\n",
       "      <td>5</td>\n",
       "      <td>0</td>\n",
       "      <td>1</td>\n",
       "      <td>8.0</td>\n",
       "      <td>False</td>\n",
       "      <td>...</td>\n",
       "      <td>-0.000128</td>\n",
       "      <td>-0.000128</td>\n",
       "      <td>0.019054</td>\n",
       "      <td>0.635528</td>\n",
       "      <td>-2.360563</td>\n",
       "      <td>1.915081</td>\n",
       "      <td>0.0</td>\n",
       "      <td>0.0</td>\n",
       "      <td>1</td>\n",
       "      <td>1</td>\n",
       "    </tr>\n",
       "    <tr>\n",
       "      <th>26388</th>\n",
       "      <td>133</td>\n",
       "      <td>63.7</td>\n",
       "      <td>wht</td>\n",
       "      <td>Other</td>\n",
       "      <td>14</td>\n",
       "      <td>5</td>\n",
       "      <td>0</td>\n",
       "      <td>1</td>\n",
       "      <td>8.0</td>\n",
       "      <td>False</td>\n",
       "      <td>...</td>\n",
       "      <td>-0.000096</td>\n",
       "      <td>-0.000096</td>\n",
       "      <td>0.030071</td>\n",
       "      <td>0.703619</td>\n",
       "      <td>-2.330572</td>\n",
       "      <td>1.736611</td>\n",
       "      <td>0.0</td>\n",
       "      <td>0.0</td>\n",
       "      <td>1</td>\n",
       "      <td>1</td>\n",
       "    </tr>\n",
       "    <tr>\n",
       "      <th>26389</th>\n",
       "      <td>133</td>\n",
       "      <td>63.7</td>\n",
       "      <td>wht</td>\n",
       "      <td>Other</td>\n",
       "      <td>14</td>\n",
       "      <td>5</td>\n",
       "      <td>0</td>\n",
       "      <td>1</td>\n",
       "      <td>8.0</td>\n",
       "      <td>False</td>\n",
       "      <td>...</td>\n",
       "      <td>-0.000071</td>\n",
       "      <td>-0.000071</td>\n",
       "      <td>0.020232</td>\n",
       "      <td>0.587544</td>\n",
       "      <td>-2.325428</td>\n",
       "      <td>1.797390</td>\n",
       "      <td>0.0</td>\n",
       "      <td>0.0</td>\n",
       "      <td>1</td>\n",
       "      <td>1</td>\n",
       "    </tr>\n",
       "    <tr>\n",
       "      <th>26390</th>\n",
       "      <td>133</td>\n",
       "      <td>63.7</td>\n",
       "      <td>wht</td>\n",
       "      <td>Other</td>\n",
       "      <td>14</td>\n",
       "      <td>5</td>\n",
       "      <td>0</td>\n",
       "      <td>1</td>\n",
       "      <td>8.0</td>\n",
       "      <td>False</td>\n",
       "      <td>...</td>\n",
       "      <td>-0.000054</td>\n",
       "      <td>-0.000054</td>\n",
       "      <td>0.015003</td>\n",
       "      <td>0.735833</td>\n",
       "      <td>-2.326985</td>\n",
       "      <td>1.729841</td>\n",
       "      <td>0.0</td>\n",
       "      <td>0.0</td>\n",
       "      <td>1</td>\n",
       "      <td>1</td>\n",
       "    </tr>\n",
       "    <tr>\n",
       "      <th>26391</th>\n",
       "      <td>133</td>\n",
       "      <td>63.7</td>\n",
       "      <td>wht</td>\n",
       "      <td>Other</td>\n",
       "      <td>14</td>\n",
       "      <td>5</td>\n",
       "      <td>0</td>\n",
       "      <td>1</td>\n",
       "      <td>8.0</td>\n",
       "      <td>False</td>\n",
       "      <td>...</td>\n",
       "      <td>-0.000043</td>\n",
       "      <td>-0.000039</td>\n",
       "      <td>0.028355</td>\n",
       "      <td>0.667666</td>\n",
       "      <td>-2.324768</td>\n",
       "      <td>2.114693</td>\n",
       "      <td>0.0</td>\n",
       "      <td>0.0</td>\n",
       "      <td>1</td>\n",
       "      <td>1</td>\n",
       "    </tr>\n",
       "  </tbody>\n",
       "</table>\n",
       "<p>5 rows × 64 columns</p>\n",
       "</div>"
      ],
      "text/plain": [
       "        id   age race    svc  LOS  ICU_Pt_Days  Mort  n_evts  eid      y  \\\n",
       "26387  133  63.7  wht  Other   14            5     0       1  8.0  False   \n",
       "26388  133  63.7  wht  Other   14            5     0       1  8.0  False   \n",
       "26389  133  63.7  wht  Other   14            5     0       1  8.0  False   \n",
       "26390  133  63.7  wht  Other   14            5     0       1  8.0  False   \n",
       "26391  133  63.7  wht  Other   14            5     0       1  8.0  False   \n",
       "\n",
       "       ...    s8.edrk  s24.edrk       srr       dfa     cosen       lds   af  \\\n",
       "26387  ...  -0.000128 -0.000128  0.019054  0.635528 -2.360563  1.915081  0.0   \n",
       "26388  ...  -0.000096 -0.000096  0.030071  0.703619 -2.330572  1.736611  0.0   \n",
       "26389  ...  -0.000071 -0.000071  0.020232  0.587544 -2.325428  1.797390  0.0   \n",
       "26390  ...  -0.000054 -0.000054  0.015003  0.735833 -2.326985  1.729841  0.0   \n",
       "26391  ...  -0.000043 -0.000039  0.028355  0.667666 -2.324768  2.114693  0.0   \n",
       "\n",
       "        AF  num  cond  \n",
       "26387  0.0    1     1  \n",
       "26388  0.0    1     1  \n",
       "26389  0.0    1     1  \n",
       "26390  0.0    1     1  \n",
       "26391  0.0    1     1  \n",
       "\n",
       "[5 rows x 64 columns]"
      ]
     },
     "execution_count": 13,
     "metadata": {},
     "output_type": "execute_result"
    }
   ],
   "source": [
    "df_12 = reverse_df_12[::-1]\n",
    "df_12.head()"
   ]
  },
  {
   "cell_type": "code",
   "execution_count": 14,
   "metadata": {},
   "outputs": [],
   "source": [
    "df_12.y = True"
   ]
  },
  {
   "cell_type": "code",
   "execution_count": 15,
   "metadata": {},
   "outputs": [],
   "source": [
    "id_list = list(set(pat['id']))  # 8105\n",
    "id_false = [id for id in id_list if id not in id_true]\n",
    "false_patient = pat[pat.id.isin(id_false)]"
   ]
  },
  {
   "cell_type": "code",
   "execution_count": 16,
   "metadata": {},
   "outputs": [],
   "source": [
    "false_patient[\"cond\"] = 1\n",
    "false_count = false_patient.groupby(\"id\")[\"cond\"].sum().to_frame()\n",
    "false_count = false_count[false_count.cond>48]"
   ]
  },
  {
   "cell_type": "code",
   "execution_count": 17,
   "metadata": {},
   "outputs": [],
   "source": [
    "false_id = false_count.index"
   ]
  },
  {
   "cell_type": "code",
   "execution_count": 18,
   "metadata": {},
   "outputs": [
    {
     "data": {
      "text/html": [
       "<div>\n",
       "<style>\n",
       "    .dataframe thead tr:only-child th {\n",
       "        text-align: right;\n",
       "    }\n",
       "\n",
       "    .dataframe thead th {\n",
       "        text-align: left;\n",
       "    }\n",
       "\n",
       "    .dataframe tbody tr th {\n",
       "        vertical-align: top;\n",
       "    }\n",
       "</style>\n",
       "<table border=\"1\" class=\"dataframe\">\n",
       "  <thead>\n",
       "    <tr style=\"text-align: right;\">\n",
       "      <th></th>\n",
       "      <th>id</th>\n",
       "      <th>age</th>\n",
       "      <th>race</th>\n",
       "      <th>svc</th>\n",
       "      <th>LOS</th>\n",
       "      <th>ICU_Pt_Days</th>\n",
       "      <th>Mort</th>\n",
       "      <th>n_evts</th>\n",
       "      <th>eid</th>\n",
       "      <th>y</th>\n",
       "      <th>...</th>\n",
       "      <th>edrk</th>\n",
       "      <th>s2.edrk</th>\n",
       "      <th>s8.edrk</th>\n",
       "      <th>s24.edrk</th>\n",
       "      <th>srr</th>\n",
       "      <th>dfa</th>\n",
       "      <th>cosen</th>\n",
       "      <th>lds</th>\n",
       "      <th>af</th>\n",
       "      <th>AF</th>\n",
       "    </tr>\n",
       "  </thead>\n",
       "  <tbody>\n",
       "    <tr>\n",
       "      <th>0</th>\n",
       "      <td>1</td>\n",
       "      <td>39.35</td>\n",
       "      <td>wht</td>\n",
       "      <td>Cardiothoracic Surgery</td>\n",
       "      <td>4</td>\n",
       "      <td>1</td>\n",
       "      <td>0</td>\n",
       "      <td>0</td>\n",
       "      <td>NaN</td>\n",
       "      <td>False</td>\n",
       "      <td>...</td>\n",
       "      <td>23.527702</td>\n",
       "      <td>0.000002</td>\n",
       "      <td>0.000001</td>\n",
       "      <td>-4.918909e-07</td>\n",
       "      <td>0.027926</td>\n",
       "      <td>0.722903</td>\n",
       "      <td>-2.391665</td>\n",
       "      <td>1.670820</td>\n",
       "      <td>0.0</td>\n",
       "      <td>0.0</td>\n",
       "    </tr>\n",
       "    <tr>\n",
       "      <th>1</th>\n",
       "      <td>1</td>\n",
       "      <td>39.35</td>\n",
       "      <td>wht</td>\n",
       "      <td>Cardiothoracic Surgery</td>\n",
       "      <td>4</td>\n",
       "      <td>1</td>\n",
       "      <td>0</td>\n",
       "      <td>0</td>\n",
       "      <td>NaN</td>\n",
       "      <td>False</td>\n",
       "      <td>...</td>\n",
       "      <td>25.659513</td>\n",
       "      <td>0.002369</td>\n",
       "      <td>0.002369</td>\n",
       "      <td>2.368679e-03</td>\n",
       "      <td>0.031948</td>\n",
       "      <td>0.728738</td>\n",
       "      <td>-2.432732</td>\n",
       "      <td>1.995264</td>\n",
       "      <td>0.0</td>\n",
       "      <td>0.0</td>\n",
       "    </tr>\n",
       "    <tr>\n",
       "      <th>2</th>\n",
       "      <td>1</td>\n",
       "      <td>39.35</td>\n",
       "      <td>wht</td>\n",
       "      <td>Cardiothoracic Surgery</td>\n",
       "      <td>4</td>\n",
       "      <td>1</td>\n",
       "      <td>0</td>\n",
       "      <td>0</td>\n",
       "      <td>NaN</td>\n",
       "      <td>False</td>\n",
       "      <td>...</td>\n",
       "      <td>26.504228</td>\n",
       "      <td>0.001654</td>\n",
       "      <td>0.001654</td>\n",
       "      <td>1.653626e-03</td>\n",
       "      <td>0.023217</td>\n",
       "      <td>0.804216</td>\n",
       "      <td>-2.459413</td>\n",
       "      <td>2.058334</td>\n",
       "      <td>0.0</td>\n",
       "      <td>0.0</td>\n",
       "    </tr>\n",
       "    <tr>\n",
       "      <th>3</th>\n",
       "      <td>1</td>\n",
       "      <td>39.35</td>\n",
       "      <td>wht</td>\n",
       "      <td>Cardiothoracic Surgery</td>\n",
       "      <td>4</td>\n",
       "      <td>1</td>\n",
       "      <td>0</td>\n",
       "      <td>0</td>\n",
       "      <td>NaN</td>\n",
       "      <td>False</td>\n",
       "      <td>...</td>\n",
       "      <td>26.203203</td>\n",
       "      <td>0.000986</td>\n",
       "      <td>0.000986</td>\n",
       "      <td>9.856909e-04</td>\n",
       "      <td>0.010812</td>\n",
       "      <td>0.974394</td>\n",
       "      <td>-2.455503</td>\n",
       "      <td>1.986356</td>\n",
       "      <td>0.0</td>\n",
       "      <td>0.0</td>\n",
       "    </tr>\n",
       "    <tr>\n",
       "      <th>4</th>\n",
       "      <td>1</td>\n",
       "      <td>39.35</td>\n",
       "      <td>wht</td>\n",
       "      <td>Cardiothoracic Surgery</td>\n",
       "      <td>4</td>\n",
       "      <td>1</td>\n",
       "      <td>0</td>\n",
       "      <td>0</td>\n",
       "      <td>NaN</td>\n",
       "      <td>False</td>\n",
       "      <td>...</td>\n",
       "      <td>24.115443</td>\n",
       "      <td>0.000191</td>\n",
       "      <td>0.000191</td>\n",
       "      <td>1.910191e-04</td>\n",
       "      <td>0.007782</td>\n",
       "      <td>0.768893</td>\n",
       "      <td>-2.429776</td>\n",
       "      <td>1.900642</td>\n",
       "      <td>0.0</td>\n",
       "      <td>0.0</td>\n",
       "    </tr>\n",
       "  </tbody>\n",
       "</table>\n",
       "<p>5 rows × 62 columns</p>\n",
       "</div>"
      ],
      "text/plain": [
       "   id    age race                     svc  LOS  ICU_Pt_Days  Mort  n_evts  \\\n",
       "0   1  39.35  wht  Cardiothoracic Surgery    4            1     0       0   \n",
       "1   1  39.35  wht  Cardiothoracic Surgery    4            1     0       0   \n",
       "2   1  39.35  wht  Cardiothoracic Surgery    4            1     0       0   \n",
       "3   1  39.35  wht  Cardiothoracic Surgery    4            1     0       0   \n",
       "4   1  39.35  wht  Cardiothoracic Surgery    4            1     0       0   \n",
       "\n",
       "   eid      y ...        edrk   s2.edrk   s8.edrk      s24.edrk       srr  \\\n",
       "0  NaN  False ...   23.527702  0.000002  0.000001 -4.918909e-07  0.027926   \n",
       "1  NaN  False ...   25.659513  0.002369  0.002369  2.368679e-03  0.031948   \n",
       "2  NaN  False ...   26.504228  0.001654  0.001654  1.653626e-03  0.023217   \n",
       "3  NaN  False ...   26.203203  0.000986  0.000986  9.856909e-04  0.010812   \n",
       "4  NaN  False ...   24.115443  0.000191  0.000191  1.910191e-04  0.007782   \n",
       "\n",
       "        dfa     cosen       lds   af   AF  \n",
       "0  0.722903 -2.391665  1.670820  0.0  0.0  \n",
       "1  0.728738 -2.432732  1.995264  0.0  0.0  \n",
       "2  0.804216 -2.459413  2.058334  0.0  0.0  \n",
       "3  0.974394 -2.455503  1.986356  0.0  0.0  \n",
       "4  0.768893 -2.429776  1.900642  0.0  0.0  \n",
       "\n",
       "[5 rows x 62 columns]"
      ]
     },
     "execution_count": 18,
     "metadata": {},
     "output_type": "execute_result"
    }
   ],
   "source": [
    "false_patient = pat[pat.id.isin(false_id)]\n",
    "false_patient.head()"
   ]
  },
  {
   "cell_type": "code",
   "execution_count": 19,
   "metadata": {},
   "outputs": [],
   "source": [
    "#randomly pick 12 hours \n",
    "#split training and test set\n",
    "false_id = list(false_id)\n",
    "true_id = list(set(df_12.id))\n",
    "np.random.seed(200)\n",
    "np.random.shuffle(list(false_id))\n",
    "np.random.shuffle(list(true_id))\n"
   ]
  },
  {
   "cell_type": "code",
   "execution_count": 20,
   "metadata": {},
   "outputs": [],
   "source": [
    "false_patient[\"count\"] = false_patient.groupby(\"id\").cumcount()"
   ]
  },
  {
   "cell_type": "code",
   "execution_count": 21,
   "metadata": {},
   "outputs": [],
   "source": [
    "false_patient[\"count_1\"] = false_patient[\"count\"] - 48\n",
    "# false_patient[\"count\"] = false_patient.groupby(\"id\")[\"count\"].max()"
   ]
  },
  {
   "cell_type": "code",
   "execution_count": 22,
   "metadata": {},
   "outputs": [],
   "source": [
    "max_num =  false_patient.groupby(\"id\")[\"count_1\"].max()"
   ]
  },
  {
   "cell_type": "code",
   "execution_count": 23,
   "metadata": {},
   "outputs": [],
   "source": [
    "max_num = max_num.reset_index()\n",
    "new_false_patient = pd.merge(false_patient,max_num,how=\"left\",on=\"id\")"
   ]
  },
  {
   "cell_type": "code",
   "execution_count": null,
   "metadata": {},
   "outputs": [],
   "source": []
  },
  {
   "cell_type": "code",
   "execution_count": 24,
   "metadata": {},
   "outputs": [],
   "source": [
    "new_false_patient.drop([\"count_1_x\"],axis=1,inplace=True)"
   ]
  },
  {
   "cell_type": "code",
   "execution_count": 25,
   "metadata": {},
   "outputs": [],
   "source": [
    "import random\n",
    "def agg(x):\n",
    "    up = random.randint(0,x[\"count_1_y\"].values[1])\n",
    "    low = up+48\n",
    "    \n",
    "    return x.iloc[up:low,]\n",
    "\n",
    "df3 = new_false_patient.groupby(\"id\").apply(lambda x: agg(x))"
   ]
  },
  {
   "cell_type": "code",
   "execution_count": 26,
   "metadata": {},
   "outputs": [],
   "source": [
    "df3 = df3.reset_index(drop=True)\n",
    "df3.drop([\"count\",\"count_1_y\"],axis=1,inplace=True)"
   ]
  },
  {
   "cell_type": "code",
   "execution_count": 27,
   "metadata": {},
   "outputs": [
    {
     "data": {
      "text/plain": [
       "(324864, 62)"
      ]
     },
     "execution_count": 27,
     "metadata": {},
     "output_type": "execute_result"
    }
   ],
   "source": [
    "df3.shape"
   ]
  },
  {
   "cell_type": "code",
   "execution_count": 28,
   "metadata": {},
   "outputs": [],
   "source": [
    "df_12.drop([\"num\",\"cond\"],axis=1,inplace=True)"
   ]
  },
  {
   "cell_type": "code",
   "execution_count": 29,
   "metadata": {},
   "outputs": [],
   "source": [
    "total = pd.concat([df3,df_12],axis=0)"
   ]
  },
  {
   "cell_type": "code",
   "execution_count": 58,
   "metadata": {},
   "outputs": [],
   "source": [
    "train = false_id[0:3384] + true_id[0:123]\n",
    "test = false_id[3384:] + true_id[123:]\n",
    "all_data = total.drop(['Sgy', 'MET','eid','tte','death','direct','n_evts','LOS', 'ICU_Pt_Days', 'Mort', 'age', 'race', 'svc'], axis=1)\n",
    "col = ['y',\"id\",'hr', 's2.hr', 's8.hr', 's24.hr', 'n.edrk',\n",
    "       'edrk', 's2.edrk', 's8.edrk', 's24.edrk']\n",
    "all_data = all_data[col]\n",
    "X_train = all_data[all_data.id.isin(train)]\n",
    "x_test = all_data[all_data.id.isin(test)]"
   ]
  },
  {
   "cell_type": "code",
   "execution_count": 59,
   "metadata": {},
   "outputs": [
    {
     "data": {
      "text/plain": [
       "0.03507271171941831"
      ]
     },
     "execution_count": 59,
     "metadata": {},
     "output_type": "execute_result"
    }
   ],
   "source": [
    "len(X_train[X_train.y==True])/len(X_train)"
   ]
  },
  {
   "cell_type": "code",
   "execution_count": 60,
   "metadata": {},
   "outputs": [],
   "source": [
    "from sklearn.preprocessing import StandardScaler\n",
    "from imblearn.over_sampling import SMOTE\n",
    "scaler = StandardScaler()\n",
    "y_train = X_train.y\n",
    "X_train = X_train.drop(['y',\"id\"], axis=1)\n",
    "\n",
    "X_train = scaler.fit_transform(X_train)\n",
    "sm = SMOTE(random_state=42)\n",
    "new_X_train, new_y_train = sm.fit_sample(X_train, y_train)"
   ]
  },
  {
   "cell_type": "code",
   "execution_count": 61,
   "metadata": {},
   "outputs": [],
   "source": [
    "y_test = x_test['y']\n",
    "test_id = x_test[\"id\"]\n",
    "x_test = x_test.drop(['y',\"id\"], axis=1)\n",
    "x_test = scaler.fit_transform(x_test)"
   ]
  },
  {
   "cell_type": "code",
   "execution_count": 62,
   "metadata": {},
   "outputs": [],
   "source": [
    "new_X_train = new_X_train.reshape(new_X_train.shape[0], new_X_train.shape[1], 1)\n",
    "x_test = x_test.reshape(x_test.shape[0], x_test.shape[1], 1)"
   ]
  },
  {
   "cell_type": "code",
   "execution_count": null,
   "metadata": {},
   "outputs": [],
   "source": []
  },
  {
   "cell_type": "code",
   "execution_count": 69,
   "metadata": {},
   "outputs": [],
   "source": [
    "input_dim = new_X_train.shape[1]\n",
    "model= Sequential()\n",
    "model.add(Conv1D(8, 2, input_shape=new_X_train.shape[1:3]))\n",
    "model.add(BatchNormalization())\n",
    "model.add(MaxPooling1D(2))\n",
    "model.add(Conv1D(8, 2))\n",
    "model.add(BatchNormalization())\n",
    "model.add(LeakyReLU(alpha=0.01))\n",
    "model.add(Conv1D(8, 2))\n",
    "model.add(BatchNormalization())\n",
    "model.add(LeakyReLU(alpha=0.01))\n",
    "model.add(MaxPooling1D(2))\n",
    "model.add(Dropout(0.2))\n",
    "model.add(Flatten())\n",
    "model.add(Dense(6))\n",
    "model.add(LeakyReLU(alpha=0.01))\n",
    "model.add(Dense(6))\n",
    "model.add(LeakyReLU(alpha=0.01))\n",
    "model.add(Dropout(0.4))\n",
    "model.add(Dense(1, activation = 'sigmoid'))"
   ]
  },
  {
   "cell_type": "code",
   "execution_count": 70,
   "metadata": {},
   "outputs": [
    {
     "name": "stdout",
     "output_type": "stream",
     "text": [
      "Train on 324864 samples, validate on 168336 samples\n",
      "Epoch 1/30\n",
      "324864/324864 [==============================] - 22s 67us/step - loss: 0.6509 - acc: 0.6168 - val_loss: 0.6331 - val_acc: 0.6203\n",
      "Epoch 2/30\n",
      "324864/324864 [==============================] - 21s 63us/step - loss: 0.6328 - acc: 0.6474 - val_loss: 0.6171 - val_acc: 0.6379\n",
      "Epoch 3/30\n",
      "324864/324864 [==============================] - 21s 64us/step - loss: 0.6275 - acc: 0.6533 - val_loss: 0.5965 - val_acc: 0.6526\n",
      "Epoch 4/30\n",
      "324864/324864 [==============================] - 21s 64us/step - loss: 0.6243 - acc: 0.6561 - val_loss: 0.5970 - val_acc: 0.6742\n",
      "Epoch 5/30\n",
      "324864/324864 [==============================] - 21s 64us/step - loss: 0.6220 - acc: 0.6575 - val_loss: 0.6104 - val_acc: 0.6510\n",
      "Epoch 6/30\n",
      "324864/324864 [==============================] - 21s 64us/step - loss: 0.6202 - acc: 0.6585 - val_loss: 0.6147 - val_acc: 0.6330\n",
      "Epoch 7/30\n",
      "324864/324864 [==============================] - 21s 63us/step - loss: 0.6187 - acc: 0.6577 - val_loss: 0.6049 - val_acc: 0.6745\n",
      "Epoch 8/30\n",
      "324864/324864 [==============================] - 21s 63us/step - loss: 0.6176 - acc: 0.6589 - val_loss: 0.6260 - val_acc: 0.6295\n",
      "Epoch 9/30\n",
      "324864/324864 [==============================] - 21s 64us/step - loss: 0.6169 - acc: 0.6595 - val_loss: 0.6197 - val_acc: 0.6135\n",
      "Epoch 10/30\n",
      "324864/324864 [==============================] - 21s 64us/step - loss: 0.6159 - acc: 0.6605 - val_loss: 0.6001 - val_acc: 0.6555\n",
      "Epoch 11/30\n",
      "324864/324864 [==============================] - 21s 63us/step - loss: 0.6149 - acc: 0.6613 - val_loss: 0.6320 - val_acc: 0.6360\n",
      "Epoch 12/30\n",
      "324864/324864 [==============================] - 21s 63us/step - loss: 0.6160 - acc: 0.6600 - val_loss: 0.5760 - val_acc: 0.6899\n",
      "Epoch 13/30\n",
      "324864/324864 [==============================] - 21s 63us/step - loss: 0.6146 - acc: 0.6614 - val_loss: 0.5799 - val_acc: 0.7045\n",
      "Epoch 14/30\n",
      "324864/324864 [==============================] - 20s 63us/step - loss: 0.6136 - acc: 0.6618 - val_loss: 0.5720 - val_acc: 0.6973\n",
      "Epoch 15/30\n",
      "324864/324864 [==============================] - 21s 63us/step - loss: 0.6134 - acc: 0.6624 - val_loss: 0.6033 - val_acc: 0.6510\n",
      "Epoch 16/30\n",
      "324864/324864 [==============================] - 21s 63us/step - loss: 0.6131 - acc: 0.6630 - val_loss: 0.6099 - val_acc: 0.6502\n",
      "Epoch 17/30\n",
      "324864/324864 [==============================] - 21s 63us/step - loss: 0.6126 - acc: 0.6644 - val_loss: 0.6225 - val_acc: 0.6388\n",
      "Epoch 18/30\n",
      "324864/324864 [==============================] - 21s 63us/step - loss: 0.6123 - acc: 0.6633 - val_loss: 0.6238 - val_acc: 0.6493\n",
      "Epoch 19/30\n",
      "324864/324864 [==============================] - 21s 63us/step - loss: 0.6115 - acc: 0.6642 - val_loss: 0.5948 - val_acc: 0.6601\n",
      "Epoch 20/30\n",
      "324864/324864 [==============================] - 21s 63us/step - loss: 0.6106 - acc: 0.6658 - val_loss: 0.6037 - val_acc: 0.6371\n",
      "Epoch 21/30\n",
      "324864/324864 [==============================] - 21s 63us/step - loss: 0.6106 - acc: 0.6665 - val_loss: 0.6119 - val_acc: 0.6192\n",
      "Epoch 22/30\n",
      "324864/324864 [==============================] - 21s 63us/step - loss: 0.6104 - acc: 0.6661 - val_loss: 0.6209 - val_acc: 0.6228\n",
      "Epoch 23/30\n",
      "324864/324864 [==============================] - 21s 63us/step - loss: 0.6090 - acc: 0.6670 - val_loss: 0.6109 - val_acc: 0.5988\n",
      "Epoch 24/30\n",
      "324864/324864 [==============================] - 21s 63us/step - loss: 0.6094 - acc: 0.6670 - val_loss: 0.6251 - val_acc: 0.6073\n",
      "Epoch 25/30\n",
      "324864/324864 [==============================] - 21s 63us/step - loss: 0.6089 - acc: 0.6672 - val_loss: 0.6476 - val_acc: 0.5608\n",
      "Epoch 26/30\n",
      "324864/324864 [==============================] - 21s 63us/step - loss: 0.6090 - acc: 0.6664 - val_loss: 0.6258 - val_acc: 0.6110\n",
      "Epoch 27/30\n",
      "324864/324864 [==============================] - 21s 63us/step - loss: 0.6082 - acc: 0.6672 - val_loss: 0.6025 - val_acc: 0.6061\n",
      "Epoch 28/30\n",
      "324864/324864 [==============================] - 20s 63us/step - loss: 0.6087 - acc: 0.6676 - val_loss: 0.5787 - val_acc: 0.6520\n",
      "Epoch 29/30\n",
      "324864/324864 [==============================] - 21s 63us/step - loss: 0.6074 - acc: 0.6695 - val_loss: 0.5852 - val_acc: 0.6359\n",
      "Epoch 30/30\n",
      "324864/324864 [==============================] - 21s 63us/step - loss: 0.6080 - acc: 0.6680 - val_loss: 0.6095 - val_acc: 0.6029\n"
     ]
    },
    {
     "data": {
      "text/plain": [
       "<keras.callbacks.History at 0x7fda6f1cf240>"
      ]
     },
     "execution_count": 70,
     "metadata": {},
     "output_type": "execute_result"
    }
   ],
   "source": [
    "nb_epoch = 30\n",
    "batch_size = 50\n",
    "model.compile(optimizer='adam', \n",
    "                    loss='binary_crossentropy', \n",
    "                    metrics=['accuracy'])\n",
    "checkpointer = ModelCheckpoint(filepath=\"model.h5\",\n",
    "                               verbose=0,\n",
    "                               save_best_only=True)\n",
    "model.fit(new_X_train, new_y_train,\n",
    "                    epochs=nb_epoch,\n",
    "                    batch_size=batch_size,\n",
    "                    shuffle=True,\n",
    "                    validation_data=(x_test, y_test),\n",
    "                    verbose=1)"
   ]
  },
  {
   "cell_type": "code",
   "execution_count": 71,
   "metadata": {},
   "outputs": [
    {
     "data": {
      "text/plain": [
       "46"
      ]
     },
     "execution_count": 71,
     "metadata": {},
     "output_type": "execute_result"
    }
   ],
   "source": [
    "pred = model.predict_proba(x_test)\n",
    "ind = pred[:,0].argsort()[::-1][:round(len(pred)*0.03)]\n",
    "test_id = np.array(test_id)\n",
    "l = list(set(test_id[ind]))\n",
    "#true patients with event\n",
    "a = [i for i in l if i in id_true]\n",
    "len(a)"
   ]
  },
  {
   "cell_type": "code",
   "execution_count": 72,
   "metadata": {},
   "outputs": [
    {
     "data": {
      "text/plain": [
       "0.6090607440431858"
      ]
     },
     "execution_count": 72,
     "metadata": {},
     "output_type": "execute_result"
    }
   ],
   "source": [
    "from sklearn.metrics import roc_auc_score\n",
    "roc_auc_score(np.array(y_test), pred[:,0])"
   ]
  },
  {
   "cell_type": "code",
   "execution_count": 73,
   "metadata": {},
   "outputs": [
    {
     "data": {
      "text/plain": [
       "775"
      ]
     },
     "execution_count": 73,
     "metadata": {},
     "output_type": "execute_result"
    }
   ],
   "source": [
    "#misclassified non_event patients\n",
    "len(list(set([i for i in test_id[ind] if i  in false_id])))"
   ]
  },
  {
   "cell_type": "code",
   "execution_count": 53,
   "metadata": {},
   "outputs": [
    {
     "data": {
      "text/plain": [
       "3507"
      ]
     },
     "execution_count": 53,
     "metadata": {},
     "output_type": "execute_result"
    }
   ],
   "source": [
    "#total unique patients \n",
    "len(list(set(test_id)))"
   ]
  },
  {
   "cell_type": "code",
   "execution_count": null,
   "metadata": {},
   "outputs": [],
   "source": []
  }
 ],
 "metadata": {
  "kernelspec": {
   "display_name": "Tensorflow 1.6, PyTorch 0.4, Keras",
   "language": "python",
   "name": "tensorflow"
  },
  "language_info": {
   "codemirror_mode": {
    "name": "ipython",
    "version": 3
   },
   "file_extension": ".py",
   "mimetype": "text/x-python",
   "name": "python",
   "nbconvert_exporter": "python",
   "pygments_lexer": "ipython3",
   "version": "3.6.8"
  }
 },
 "nbformat": 4,
 "nbformat_minor": 2
}
