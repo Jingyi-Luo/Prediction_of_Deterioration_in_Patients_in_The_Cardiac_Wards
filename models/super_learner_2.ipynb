{
 "cells": [
  {
   "cell_type": "code",
   "execution_count": 1,
   "metadata": {},
   "outputs": [],
   "source": [
    "import os\n",
    "import pandas as pd\n",
    "import numpy as np\n",
    "from imblearn.over_sampling import SMOTE\n",
    "from sklearn.model_selection import train_test_split\n",
    "from sklearn.model_selection import GridSearchCV\n",
    "from sklearn.linear_model import LogisticRegression\n",
    "from sklearn.metrics import confusion_matrix, precision_recall_curve, auc, roc_auc_score, roc_curve, recall_score, classification_report\n",
    "from sklearn.linear_model import SGDClassifier\n",
    "import matplotlib.pyplot as plt\n",
    "import itertools\n",
    "from sklearn.model_selection import KFold\n",
    "from sklearn import linear_model\n",
    "from sklearn.ensemble import RandomForestClassifier\n",
    "import random\n",
    "from sklearn.calibration import CalibratedClassifierCV\n",
    "from sklearn.svm import SVC\n",
    "from sklearn.neighbors import KNeighborsClassifier\n",
    "from sklearn.naive_bayes import GaussianNB\n",
    "from sklearn.preprocessing import StandardScaler\n",
    "import warnings\n",
    "warnings.filterwarnings(\"ignore\")"
   ]
  },
  {
   "cell_type": "code",
   "execution_count": null,
   "metadata": {},
   "outputs": [],
   "source": []
  },
  {
   "cell_type": "code",
   "execution_count": 2,
   "metadata": {},
   "outputs": [],
   "source": [
    "raw = pd.read_csv(\"./moss_plos_one_data.csv\")  # (2217958, 62)\n"
   ]
  },
  {
   "cell_type": "code",
   "execution_count": 3,
   "metadata": {},
   "outputs": [
    {
     "data": {
      "text/html": [
       "<div>\n",
       "<style scoped>\n",
       "    .dataframe tbody tr th:only-of-type {\n",
       "        vertical-align: middle;\n",
       "    }\n",
       "\n",
       "    .dataframe tbody tr th {\n",
       "        vertical-align: top;\n",
       "    }\n",
       "\n",
       "    .dataframe thead th {\n",
       "        text-align: right;\n",
       "    }\n",
       "</style>\n",
       "<table border=\"1\" class=\"dataframe\">\n",
       "  <thead>\n",
       "    <tr style=\"text-align: right;\">\n",
       "      <th></th>\n",
       "      <th>count</th>\n",
       "      <th>percent</th>\n",
       "    </tr>\n",
       "  </thead>\n",
       "  <tbody>\n",
       "    <tr>\n",
       "      <th>Sgy</th>\n",
       "      <td>2211055</td>\n",
       "      <td>0.996888</td>\n",
       "    </tr>\n",
       "    <tr>\n",
       "      <th>MET</th>\n",
       "      <td>2061720</td>\n",
       "      <td>0.929558</td>\n",
       "    </tr>\n",
       "    <tr>\n",
       "      <th>eid</th>\n",
       "      <td>1974558</td>\n",
       "      <td>0.890259</td>\n",
       "    </tr>\n",
       "    <tr>\n",
       "      <th>tte</th>\n",
       "      <td>1974558</td>\n",
       "      <td>0.890259</td>\n",
       "    </tr>\n",
       "    <tr>\n",
       "      <th>death</th>\n",
       "      <td>1974558</td>\n",
       "      <td>0.890259</td>\n",
       "    </tr>\n",
       "    <tr>\n",
       "      <th>direct</th>\n",
       "      <td>1974558</td>\n",
       "      <td>0.890259</td>\n",
       "    </tr>\n",
       "  </tbody>\n",
       "</table>\n",
       "</div>"
      ],
      "text/plain": [
       "          count   percent\n",
       "Sgy     2211055  0.996888\n",
       "MET     2061720  0.929558\n",
       "eid     1974558  0.890259\n",
       "tte     1974558  0.890259\n",
       "death   1974558  0.890259\n",
       "direct  1974558  0.890259"
      ]
     },
     "execution_count": 3,
     "metadata": {},
     "output_type": "execute_result"
    }
   ],
   "source": [
    "def get_na_rate(dataframe):\n",
    "    na_count = dataframe.isnull().sum()\n",
    "    na_rate = na_count / len(dataframe)\n",
    "    df_na = pd.concat([na_count, na_rate], axis=1, keys=['count', 'percent'])\n",
    "    df_na = df_na[df_na['percent']>0]\n",
    "    df_na = df_na.sort_values(['percent'], ascending=False)\n",
    "    return df_na\n",
    "\n",
    "df_na = get_na_rate(raw)\n",
    "df_na\n"
   ]
  },
  {
   "cell_type": "code",
   "execution_count": 4,
   "metadata": {},
   "outputs": [],
   "source": [
    "all_data = raw.drop(['Sgy', 'MET','eid','tte','death','direct','n_evts','LOS', 'ICU_Pt_Days', 'Mort', 'age', 'race', 'svc'], axis=1)  # (2217958, 56)"
   ]
  },
  {
   "cell_type": "code",
   "execution_count": 5,
   "metadata": {},
   "outputs": [],
   "source": [
    "all_data[\"num\"] = all_data.groupby(\"id\").cumcount()"
   ]
  },
  {
   "cell_type": "code",
   "execution_count": 6,
   "metadata": {},
   "outputs": [],
   "source": [
    "all_data = all_data[all_data.num % 4 == 0]\n",
    "all_data.drop([\"num\"], axis=1,inplace=True)"
   ]
  },
  {
   "cell_type": "code",
   "execution_count": 7,
   "metadata": {},
   "outputs": [
    {
     "data": {
      "text/plain": [
       "(557555, 49)"
      ]
     },
     "execution_count": 7,
     "metadata": {},
     "output_type": "execute_result"
    }
   ],
   "source": [
    "all_data.shape"
   ]
  },
  {
   "cell_type": "markdown",
   "metadata": {},
   "source": [
    "### ??? Some columns (Resp) have zeros"
   ]
  },
  {
   "cell_type": "code",
   "execution_count": 8,
   "metadata": {},
   "outputs": [],
   "source": [
    "id_list = list(set(all_data['id']))  # 8105\n",
    "id_true = list(set(all_data[all_data['y'] == True].id))       # 367\n",
    "id_false = [id for id in id_list if id not in id_true]        # 7738\n"
   ]
  },
  {
   "cell_type": "code",
   "execution_count": 9,
   "metadata": {},
   "outputs": [],
   "source": [
    "np.random.shuffle(id_true)\n",
    "np.random.shuffle(id_false)\n"
   ]
  },
  {
   "cell_type": "code",
   "execution_count": 35,
   "metadata": {},
   "outputs": [],
   "source": [
    "id_true_1 = id_true[0:73]\n",
    "id_true_2 = id_true[73:147]\n",
    "id_true_3 = id_true[147:221]\n",
    "id_true_4 = id_true[221:294]\n",
    "id_true_5 = id_true[294:]\n",
    "id_false_1 = id_false[0:1547]\n",
    "id_false_2 = id_false[1547:3094]\n",
    "id_false_3 = id_false[3094:4641]\n",
    "id_false_4 = id_false[4641:6188]\n",
    "id_false_5 = id_false[6188:]\n",
    "log_vs_id = []\n",
    "log_lab_id = []\n",
    "log_ecg_id = []\n",
    "svm_vs_id = []\n",
    "svm_lab_id = []\n",
    "svm_ecg_id = []\n",
    "rf_vs_id = []\n",
    "rf_lab_id = []\n",
    "rf_ecg_id = []\n",
    "#=================\n",
    "log_vs_roc = []\n",
    "log_lab_roc = []\n",
    "log_ecg_roc = []\n",
    "rf_vs_roc = []\n",
    "rf_lab_roc = []\n",
    "rf_ecg_roc = []\n",
    "svm_vs_roc = []\n",
    "svm_lab_roc = []\n",
    "svm_ecg_roc = []\n"
   ]
  },
  {
   "cell_type": "code",
   "execution_count": 36,
   "metadata": {},
   "outputs": [
    {
     "name": "stdout",
     "output_type": "stream",
     "text": [
      "\n",
      "new loop starts============\n",
      "true shape: 37635  false shape: 407666\n",
      "true shape: 9905  false shape: 102349\n",
      "After SMOTE \"True\":440620 \"False\": 440620\n",
      "patient found by log vs: 27\n",
      "non_event patient found by log vs: 92\n",
      "patient found by log lab: 11\n",
      "non_event patient found by log lab: 30\n",
      "patient found by log ecg: 29\n",
      "non_event patient found by log ecg: 194\n",
      "patient found by rf vs: 31\n",
      "non_event patient found by rf vs: 218\n",
      "patient found by rf lab: 10\n",
      "non_event patient found by rf lab: 67\n",
      "patient found by rf ecg: 34\n",
      "non_event patient found by rf ecg: 361\n",
      "patient found by nb vs: 23\n",
      "non_event patient found by nb vs: 91\n",
      "patient found by nb labs: 9\n",
      "non_event patient found by nb labs: 24\n",
      "patient found by nb ecg: 32\n",
      "non_event patient found by nb ecg: 326\n",
      "\n",
      "new loop starts============\n",
      "true shape: 38711  false shape: 410334\n",
      "true shape: 8829  false shape: 99681\n",
      "After SMOTE \"True\":444168 \"False\": 444168\n",
      "patient found by log vs: 28\n",
      "non_event patient found by log vs: 104\n",
      "patient found by log lab: 6\n",
      "non_event patient found by log lab: 22\n",
      "patient found by log ecg: 22\n",
      "non_event patient found by log ecg: 274\n",
      "patient found by rf vs: 29\n",
      "non_event patient found by rf vs: 218\n",
      "patient found by rf lab: 16\n",
      "non_event patient found by rf lab: 56\n",
      "patient found by rf ecg: 36\n",
      "non_event patient found by rf ecg: 373\n",
      "patient found by nb vs: 22\n",
      "non_event patient found by nb vs: 80\n",
      "patient found by nb labs: 4\n",
      "non_event patient found by nb labs: 26\n",
      "patient found by nb ecg: 21\n",
      "non_event patient found by nb ecg: 303\n",
      "\n",
      "new loop starts============\n",
      "true shape: 39721  false shape: 404184\n",
      "true shape: 7819  false shape: 105831\n",
      "After SMOTE \"True\":439156 \"False\": 439156\n",
      "patient found by log vs: 20\n",
      "non_event patient found by log vs: 80\n",
      "patient found by log lab: 8\n",
      "non_event patient found by log lab: 33\n",
      "patient found by log ecg: 24\n",
      "non_event patient found by log ecg: 222\n",
      "patient found by rf vs: 21\n",
      "non_event patient found by rf vs: 218\n",
      "patient found by rf lab: 11\n",
      "non_event patient found by rf lab: 70\n",
      "patient found by rf ecg: 32\n",
      "non_event patient found by rf ecg: 359\n",
      "patient found by nb vs: 15\n",
      "non_event patient found by nb vs: 62\n",
      "patient found by nb labs: 9\n",
      "non_event patient found by nb labs: 21\n",
      "patient found by nb ecg: 28\n",
      "non_event patient found by nb ecg: 342\n",
      "\n",
      "new loop starts============\n",
      "true shape: 38179  false shape: 408279\n",
      "true shape: 9361  false shape: 101736\n",
      "After SMOTE \"True\":441536 \"False\": 441536\n",
      "patient found by log vs: 23\n",
      "non_event patient found by log vs: 89\n",
      "patient found by log lab: 3\n",
      "non_event patient found by log lab: 31\n",
      "patient found by log ecg: 22\n",
      "non_event patient found by log ecg: 268\n",
      "patient found by rf vs: 13\n",
      "non_event patient found by rf vs: 226\n",
      "patient found by rf lab: 11\n",
      "non_event patient found by rf lab: 65\n",
      "patient found by rf ecg: 27\n",
      "non_event patient found by rf ecg: 352\n",
      "patient found by nb vs: 21\n",
      "non_event patient found by nb vs: 82\n",
      "patient found by nb labs: 8\n",
      "non_event patient found by nb labs: 21\n",
      "patient found by nb ecg: 27\n",
      "non_event patient found by nb ecg: 388\n",
      "\n",
      "new loop starts============\n",
      "true shape: 35914  false shape: 409597\n",
      "true shape: 11626  false shape: 100418\n",
      "After SMOTE \"True\":440628 \"False\": 440628\n",
      "patient found by log vs: 23\n",
      "non_event patient found by log vs: 96\n",
      "patient found by log lab: 7\n",
      "non_event patient found by log lab: 37\n",
      "patient found by log ecg: 27\n",
      "non_event patient found by log ecg: 250\n",
      "patient found by rf vs: 26\n",
      "non_event patient found by rf vs: 218\n",
      "patient found by rf lab: 13\n",
      "non_event patient found by rf lab: 65\n",
      "patient found by rf ecg: 31\n",
      "non_event patient found by rf ecg: 323\n",
      "patient found by nb vs: 22\n",
      "non_event patient found by nb vs: 108\n",
      "patient found by nb labs: 16\n",
      "non_event patient found by nb labs: 27\n",
      "patient found by nb ecg: 28\n",
      "non_event patient found by nb ecg: 340\n"
     ]
    }
   ],
   "source": [
    "for i in range(5):\n",
    "    vs_unique = []\n",
    "    lab_unique = []\n",
    "    ecg_unique = []\n",
    "    print()\n",
    "    print(\"new loop starts============\")\n",
    "    if i ==0:\n",
    "        id_true_0 = id_true_1\n",
    "        id_false_sample = id_false_1\n",
    "    if i ==1:\n",
    "        id_true_0 = id_true_2\n",
    "        id_false_sample = id_false_2\n",
    "    if i ==2:\n",
    "        id_true_0 = id_true_3\n",
    "        id_false_sample = id_false_3\n",
    "    if i ==3:\n",
    "        id_true_0 = id_true_4\n",
    "        id_false_sample = id_false_4\n",
    "    if i ==4:\n",
    "        id_true_0 = id_true_5\n",
    "        id_false_sample = id_false_5\n",
    "    #5 folds cross validation\n",
    "    id_false_train =[id for id in id_false if id not in id_false_sample]\n",
    "    true_train_1 = [id for id in id_true if id not in id_true_0]\n",
    "    df_train1_true = all_data[all_data['id'].isin(true_train_1)]      \n",
    "    df_train1_false = all_data[all_data['id'].isin(id_false_train)] \n",
    "    df_train_1 = pd.concat([df_train1_true, df_train1_false], ignore_index=True, axis=0)  # (411272, 56)\n",
    "    print ('true shape: %d  false shape: %d'%(df_train1_true.shape[0], df_train1_false.shape[0]))\n",
    "    df_test1_true = all_data[all_data['id'].isin(id_true_0)]\n",
    "    df_test1_false = all_data[all_data['id'].isin(id_false_sample)]\n",
    "    df_test_1 = pd.concat([df_test1_true, df_test1_false], axis=0)\n",
    "    print ('true shape: %d  false shape: %d'%(df_test1_true.shape[0], df_test1_false.shape[0]))\n",
    "    y_train_1 = df_train_1.y\n",
    "    x_train_1 = df_train_1.drop(['y'], axis=1)\n",
    "    sm = SMOTE(random_state=42)\n",
    "    X_train, y_train = sm.fit_sample(x_train_1, y_train_1)\n",
    "    print ('After SMOTE \"True\":%d \"False\": %d' % (sum(y_train == 1), sum(y_train == 0)))\n",
    "    y_test_1 = df_test_1.y\n",
    "    patient_id = df_test_1.id\n",
    "    x_test_1 = df_test_1.drop(['y'], axis=1)\n",
    "    id_array = patient_id.values\n",
    "    \n",
    "    #=========\n",
    "    #logictic regression\n",
    "    #==========\n",
    "    lr = LogisticRegression()\n",
    "    #  Predict with all VS variables\n",
    "    cols = [\"Pulse\",\"O2.Flow\",\"Resp\",\"SpO2\",\"SBP\",\"Glasgow.Coma.Scale.Total\"]\n",
    "    X_train_1 = x_train_1[cols]\n",
    "    X_test_1 = x_test_1[cols]\n",
    "    lr = lr.fit(X_train_1, y_train_1)\n",
    "    pred = lr.predict_proba(X_test_1)[:, 1]\n",
    "    new_id = list(set(id_array[pred.argsort()[-len(pred)//100:][::-1]]))\n",
    "    true_patient = [i for i in new_id if i in id_true]\n",
    "    false_patient = [i for i in new_id if i in id_false]\n",
    "    print(\"patient found by log vs:\",len(true_patient))\n",
    "    print(\"non_event patient found by log vs:\",len(false_patient))\n",
    "    log_vs_roc.append(roc_auc_score(y_test_1, pred))\n",
    "    log_vs_id += true_patient\n",
    "    \n",
    "    #  Predict with all lab results\n",
    "    cols = [\"WHITE.BLOOD.CELL.COUNT\",\"BLOOD.UREA.NITROGEN\",\"AST.GOT\",\n",
    "        \"PLATELET.COUNT\",\"GLUCOSE\",\"PCO2\",\"POTASSIUM\",\"SODIUM\",\"CO2\"]\n",
    "    X_train_1 = x_train_1[cols]\n",
    "    X_test_1 = x_test_1[cols]\n",
    "    lr = lr.fit(X_train_1, y_train_1)\n",
    "    pred = lr.predict_proba(X_test_1)[:, 1]\n",
    "    new_id = list(set(id_array[pred.argsort()[-len(pred)//100:][::-1]]))\n",
    "    true_patient = [i for i in new_id if i in id_true]\n",
    "    false_patient = [i for i in new_id if i in id_false]\n",
    "    log_lab_roc.append(roc_auc_score(y_test_1, pred))\n",
    "    print(\"patient found by log lab:\",len(true_patient))\n",
    "    print(\"non_event patient found by log lab:\",len(false_patient))\n",
    "    log_lab_id += true_patient\n",
    "    #===========================\n",
    "    #  Predict with ECG results\n",
    "    cols = ['hr', 's2.hr', 's8.hr', 's24.hr', 'n.edrk',\n",
    "           'edrk', 's2.edrk', 's8.edrk', 's24.edrk', 'srr', 'dfa', 'cosen', 'lds',\n",
    "           'af', 'AF']\n",
    "    X_train_1 = x_train_1[cols]\n",
    "    X_test_1 = x_test_1[cols]\n",
    "    lr = lr.fit(X_train_1, y_train_1)\n",
    "    pred = lr.predict_proba(X_test_1)[:, 1]\n",
    "    log_ecg_roc.append(roc_auc_score(y_test_1, pred))\n",
    "    new_id = list(set(id_array[pred.argsort()[-len(pred)//100:][::-1]]))\n",
    "    true_patient = [i for i in new_id if i in id_true]\n",
    "    false_patient = [i for i in new_id if i in id_false]\n",
    "    print(\"patient found by log ecg:\",len(true_patient))\n",
    "    print(\"non_event patient found by log ecg:\",len(false_patient))\n",
    "    log_ecg_id += true_patient\n",
    "#     #=========\n",
    "#     #Randomforest\n",
    "#     #=========\n",
    "    def c_stat(model, x_train_1, x_test_1, y_train_1, y_test_1, cols):\n",
    "        X_train_1 = x_train_1[cols]\n",
    "        X_test_1 = x_test_1[cols]\n",
    "        model = model.fit(X_train_1, y_train_1)\n",
    "        pred = model.predict_proba(X_test_1)[:, 1]\n",
    "        return pred, roc_auc_score(y_test_1, pred)\n",
    "    #  Predict with all VS variables\n",
    "    forest = RandomForestClassifier(n_estimators=100, n_jobs = -1, random_state=0)\n",
    "    cols = [\"Pulse\",\"O2.Flow\",\"Resp\",\"SpO2\",\"SBP\",\"Glasgow.Coma.Scale.Total\"]\n",
    "    pred, roc = c_stat(forest, x_train_1, x_test_1, y_train_1, y_test_1, cols)\n",
    "    rf_vs_roc.append(roc)\n",
    "    new_id = list(set(id_array[pred.argsort()[-len(pred)//100:][::-1]]))\n",
    "    true_patient = [i for i in new_id if i in id_true]\n",
    "    false_patient = [i for i in new_id if i in id_false]\n",
    "    print(\"patient found by rf vs:\",len(true_patient))\n",
    "    print(\"non_event patient found by rf vs:\",len(false_patient))\n",
    "    rf_vs_id += true_patient\n",
    "    \n",
    "    #  Predict with all lab results\n",
    "    cols = [\"WHITE.BLOOD.CELL.COUNT\",\"BLOOD.UREA.NITROGEN\",\"AST.GOT\",\n",
    "            \"PLATELET.COUNT\",\"GLUCOSE\",\"PCO2\",\"POTASSIUM\",\"SODIUM\",\"CO2\"]\n",
    "    pred, roc = c_stat(forest, x_train_1, x_test_1, y_train_1, y_test_1, cols)\n",
    "    rf_lab_roc.append(roc)\n",
    "    new_id = list(set(id_array[pred.argsort()[-len(pred)//100:][::-1]]))\n",
    "    true_patient = [i for i in new_id if i in id_true]\n",
    "    false_patient = [i for i in new_id if i in id_false]\n",
    "    print(\"patient found by rf lab:\",len(true_patient))\n",
    "    print(\"non_event patient found by rf lab:\",len(false_patient))\n",
    "    rf_lab_id += true_patient\n",
    "    \n",
    "    #  Predict with all ECG results\n",
    "    cols = ['hr', 's2.hr', 's8.hr', 's24.hr', 'n.edrk',\n",
    "           'edrk', 's2.edrk', 's8.edrk', 's24.edrk', 'srr', 'dfa', 'cosen', 'lds',\n",
    "           'af', 'AF']\n",
    "    pred, roc = c_stat(forest, x_train_1, x_test_1, y_train_1, y_test_1, cols)\n",
    "    rf_ecg_roc.append(roc)\n",
    "    new_id = list(set(id_array[pred.argsort()[-len(pred)//100:][::-1]]))\n",
    "    true_patient = [i for i in new_id if i in id_true]\n",
    "    false_patient = [i for i in new_id if i in id_false]\n",
    "    print(\"patient found by rf ecg:\",len(true_patient))\n",
    "    print(\"non_event patient found by rf ecg:\",len(false_patient))\n",
    "    rf_ecg_id += true_patient\n",
    "    \n",
    "    #=======\n",
    "    #naive bayes\n",
    "    #=======\n",
    "    #  Predict with all VS variables\n",
    "    svm = GaussianNB()\n",
    "    cols = [\"Pulse\",\"O2.Flow\",\"Resp\",\"SpO2\",\"SBP\",\"Glasgow.Coma.Scale.Total\"]\n",
    "    pred, roc = c_stat(svm, x_train_1, x_test_1, y_train_1, y_test_1, cols)\n",
    "    svm_vs_roc.append(roc)\n",
    "    \n",
    "    new_id = list(set(id_array[pred.argsort()[-len(pred)//100:][::-1]]))\n",
    "    true_patient = [i for i in new_id if i in id_true]\n",
    "    false_patient = [i for i in new_id if i in id_false]\n",
    "    print(\"patient found by nb vs:\",len(true_patient))\n",
    "    print(\"non_event patient found by nb vs:\",len(false_patient))\n",
    "    svm_vs_id += true_patient\n",
    "    \n",
    "    #  Predict with all lab variables\n",
    "    cols = [\"WHITE.BLOOD.CELL.COUNT\",\"BLOOD.UREA.NITROGEN\",\"AST.GOT\",\n",
    "            \"PLATELET.COUNT\",\"GLUCOSE\",\"PCO2\",\"POTASSIUM\",\"SODIUM\",\"CO2\"]\n",
    "    pred, roc = c_stat(svm, x_train_1, x_test_1, y_train_1, y_test_1, cols)\n",
    "    svm_lab_roc.append(roc)\n",
    "    new_id = list(set(id_array[pred.argsort()[-len(pred)//100:][::-1]]))\n",
    "    true_patient = [i for i in new_id if i in id_true]\n",
    "    false_patient = [i for i in new_id if i in id_false]\n",
    "    print(\"patient found by nb labs:\",len(true_patient))\n",
    "    print(\"non_event patient found by nb labs:\",len(false_patient))\n",
    "    svm_lab_id += true_patient\n",
    "\n",
    "    #  Predict with all ECG results\n",
    "    cols = ['hr', 's2.hr', 's8.hr', 's24.hr', 'n.edrk',\n",
    "           'edrk', 's2.edrk', 's8.edrk', 's24.edrk', 'srr', 'dfa', 'cosen', 'lds',\n",
    "           'af', 'AF']\n",
    "    pred, roc = c_stat(svm, x_train_1, x_test_1, y_train_1, y_test_1, cols)\n",
    "    svm_ecg_roc.append(roc)\n",
    "    new_id = list(set(id_array[pred.argsort()[-len(pred)//100:][::-1]]))\n",
    "    true_patient = [i for i in new_id if i in id_true]\n",
    "    false_patient = [i for i in new_id if i in id_false]\n",
    "    print(\"patient found by nb ecg:\",len(true_patient))\n",
    "    print(\"non_event patient found by nb ecg:\",len(false_patient))\n",
    "    svm_ecg_id += true_patient"
   ]
  },
  {
   "cell_type": "code",
   "execution_count": 31,
   "metadata": {},
   "outputs": [
    {
     "data": {
      "text/plain": [
       "array([68862, 75385, 23823, ...,  3121, 53487, 95156])"
      ]
     },
     "execution_count": 31,
     "metadata": {},
     "output_type": "execute_result"
    }
   ],
   "source": []
  },
  {
   "cell_type": "code",
   "execution_count": 37,
   "metadata": {},
   "outputs": [
    {
     "data": {
      "text/plain": [
       "188"
      ]
     },
     "execution_count": 37,
     "metadata": {},
     "output_type": "execute_result"
    }
   ],
   "source": [
    "vs =log_vs_id + svm_vs_id  +rf_vs_id\n",
    "len(list(set(vs)))"
   ]
  },
  {
   "cell_type": "code",
   "execution_count": 38,
   "metadata": {},
   "outputs": [
    {
     "data": {
      "text/plain": [
       "92"
      ]
     },
     "execution_count": 38,
     "metadata": {},
     "output_type": "execute_result"
    }
   ],
   "source": [
    "labs =log_lab_id + svm_lab_id  +rf_lab_id\n",
    "len(list(set(labs)))"
   ]
  },
  {
   "cell_type": "code",
   "execution_count": 39,
   "metadata": {},
   "outputs": [
    {
     "data": {
      "text/plain": [
       "220"
      ]
     },
     "execution_count": 39,
     "metadata": {},
     "output_type": "execute_result"
    }
   ],
   "source": [
    "ecg =log_ecg_id + svm_ecg_id  +rf_ecg_id\n",
    "len(list(set(ecg)))"
   ]
  },
  {
   "cell_type": "code",
   "execution_count": 40,
   "metadata": {},
   "outputs": [
    {
     "data": {
      "text/plain": [
       "199"
      ]
     },
     "execution_count": 40,
     "metadata": {},
     "output_type": "execute_result"
    }
   ],
   "source": [
    "logist = log_vs_id + log_lab_id +log_ecg_id\n",
    "len(list(set(logist)))"
   ]
  },
  {
   "cell_type": "code",
   "execution_count": 41,
   "metadata": {},
   "outputs": [
    {
     "data": {
      "text/plain": [
       "227"
      ]
     },
     "execution_count": 41,
     "metadata": {},
     "output_type": "execute_result"
    }
   ],
   "source": [
    "rondonfor= rf_vs_id + rf_lab_id +rf_ecg_id\n",
    "len(list(set(rondonfor)))"
   ]
  },
  {
   "cell_type": "code",
   "execution_count": 42,
   "metadata": {},
   "outputs": [
    {
     "data": {
      "text/plain": [
       "163"
      ]
     },
     "execution_count": 42,
     "metadata": {},
     "output_type": "execute_result"
    }
   ],
   "source": [
    "nb = svm_lab_id + svm_lab_id + svm_ecg_id\n",
    "len(list(set(nb)))"
   ]
  },
  {
   "cell_type": "code",
   "execution_count": 43,
   "metadata": {},
   "outputs": [
    {
     "name": "stdout",
     "output_type": "stream",
     "text": [
      "0.6406928058828167 0.6181528968577595 0.6834974898360079\n"
     ]
    }
   ],
   "source": [
    "print(np.mean(log_ecg_roc),np.mean(log_lab_roc),np.mean(log_vs_roc))"
   ]
  },
  {
   "cell_type": "code",
   "execution_count": 44,
   "metadata": {},
   "outputs": [
    {
     "name": "stdout",
     "output_type": "stream",
     "text": [
      "0.5771238820882061 0.6070220329653255 0.5832416491216695\n"
     ]
    }
   ],
   "source": [
    "print(np.mean(rf_ecg_roc),np.mean(rf_lab_roc),np.mean(rf_vs_roc))"
   ]
  },
  {
   "cell_type": "code",
   "execution_count": 45,
   "metadata": {},
   "outputs": [
    {
     "name": "stdout",
     "output_type": "stream",
     "text": [
      "0.6360463598717382 0.6151463615287016 0.681679470451214\n"
     ]
    }
   ],
   "source": [
    "print(np.mean(svm_ecg_roc),np.mean(svm_lab_roc),np.mean(svm_vs_roc))"
   ]
  }
 ],
 "metadata": {
  "kernelspec": {
   "display_name": "Python 3",
   "language": "python",
   "name": "python3"
  },
  "language_info": {
   "codemirror_mode": {
    "name": "ipython",
    "version": 3
   },
   "file_extension": ".py",
   "mimetype": "text/x-python",
   "name": "python",
   "nbconvert_exporter": "python",
   "pygments_lexer": "ipython3",
   "version": "3.6.5"
  }
 },
 "nbformat": 4,
 "nbformat_minor": 2
}
